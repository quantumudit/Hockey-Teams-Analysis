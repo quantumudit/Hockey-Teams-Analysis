{
 "cells": [
  {
   "cell_type": "markdown",
   "metadata": {},
   "source": [
    "---\n",
    "\n",
    "---"
   ]
  },
  {
   "cell_type": "markdown",
   "metadata": {},
   "source": [
    "# Hockey Team Stats: Data Analysis & Insights Mining"
   ]
  },
  {
   "cell_type": "markdown",
   "metadata": {},
   "source": [
    "## Introduction\n",
    "\n",
    "This Jupyter notebook dedicated to the exploration, analysis, and visualization of hockey team statistics. The dataset we're about to delve into has been meticulously collected from the website [Hockey Team Stats](https://www.scrapethissite.com/), and subsequently prepared and cleaned using the data processing script [data_processor.py](../data/asdas).\n",
    "\n",
    "Hockey enthusiasts and data aficionados alike will find this notebook a valuable resource for unearthing intriguing insights and trends within the world of hockey. Whether you're an ardent fan seeking to better understand your favorite team's performance over the years, a statistician unraveling the intricacies of sports analytics, or a sports analyst aiming to visualize data for engaging presentations, you're in the right place.\n",
    "\n",
    "The dataset encapsulates crucial information about 35 hockey teams spanning two decades, from 1990 to 2011. Each entry reveals the wins, losses, OT losses, win percentage, goals scored, and goals conceded by a team in a given year. With this rich tapestry of data at our disposal, we're poised to embark on a journey of exploration.\n",
    "\n",
    "Our goal is to provide you with a comprehensive analysis of hockey team statistics, ultimately uncovering the Greatest of All Time (GOAT) team through rigorous examination of their performance over time and in recent years (last five years)"
   ]
  },
  {
   "cell_type": "markdown",
   "metadata": {},
   "source": [
    "## Imports & Setup\n",
    "\n",
    "In this section, we will configure the fundamental components for data analysis and visualization in the chosen dataset.\n",
    "\n",
    "This involves integrating popular data analysis libraries, along with key visualization libraries. We will also initialize and incorporate the dataset into the notebook as a central component.\n",
    "Moreover, we will define essential configurations and options that will maintain consistency throughout the notebook.\n",
    "\n",
    "We'll be adding some helper functions to perform similar operations neatly. [REPHRASE THIS]"
   ]
  },
  {
   "cell_type": "markdown",
   "metadata": {},
   "source": [
    "### Module Import & Setup\n",
    "\n",
    "We will be importing the following libraries and modules:\n",
    "\n",
    "- `pandas`: For loading, manipulating, and analyzing the dataset\n",
    "- `numpy`: For performing numerical operations on the dataset\n",
    "- `matplotlib` and `seaborn`: For creating visualizations and plots of the data\n",
    "- `sklearn.preprocessing`: For normalizing various metrics\n",
    "- `warnings`: For handling any warning that may occur during the execution of the code\n",
    "\n",
    "Additionally, we will establish and fine-tune essential configurations and settings to ensure a consistent and efficient analysis process across the entire notebook."
   ]
  },
  {
   "cell_type": "code",
   "execution_count": 1,
   "metadata": {},
   "outputs": [],
   "source": [
    "# Import necessary libraries\n",
    "import numpy as np\n",
    "import pandas as pd\n",
    "import matplotlib.pyplot as plt\n",
    "import seaborn as sns\n",
    "import warnings\n",
    "from sklearn.preprocessing import MinMaxScaler\n",
    "\n",
    "# Library Setup\n",
    "pd.options.display.precision = 2\n",
    "warnings.filterwarnings(\"ignore\")"
   ]
  },
  {
   "cell_type": "code",
   "execution_count": 2,
   "metadata": {},
   "outputs": [],
   "source": [
    "# Adds utils directory to Python path\n",
    "import sys\n",
    "sys.path.append(\"../\")"
   ]
  },
  {
   "cell_type": "code",
   "execution_count": 3,
   "metadata": {},
   "outputs": [],
   "source": [
    "# Import utility functions\n",
    "from utils import hockey_da_util as hdu"
   ]
  },
  {
   "cell_type": "markdown",
   "metadata": {},
   "source": [
    "### Data Import\n",
    "\n",
    "Now, we'll proceed to load the processed hockey statistics dataset from the directory using the `pandas` library.<br>\n",
    "We will employ the `read_csv()` method to retrieve the data from the CSV file. Furthermore, we'll create a deep copy of the dataframe to facilitate our work."
   ]
  },
  {
   "cell_type": "code",
   "execution_count": 4,
   "metadata": {},
   "outputs": [
    {
     "data": {
      "text/html": [
       "<div>\n",
       "<style scoped>\n",
       "    .dataframe tbody tr th:only-of-type {\n",
       "        vertical-align: middle;\n",
       "    }\n",
       "\n",
       "    .dataframe tbody tr th {\n",
       "        vertical-align: top;\n",
       "    }\n",
       "\n",
       "    .dataframe thead th {\n",
       "        text-align: right;\n",
       "    }\n",
       "</style>\n",
       "<table border=\"1\" class=\"dataframe\">\n",
       "  <thead>\n",
       "    <tr style=\"text-align: right;\">\n",
       "      <th></th>\n",
       "      <th>team_name</th>\n",
       "      <th>year</th>\n",
       "      <th>wins</th>\n",
       "      <th>losses</th>\n",
       "      <th>ot_losses</th>\n",
       "      <th>win_pct</th>\n",
       "      <th>goals_for</th>\n",
       "      <th>goals_against</th>\n",
       "    </tr>\n",
       "  </thead>\n",
       "  <tbody>\n",
       "    <tr>\n",
       "      <th>0</th>\n",
       "      <td>Boston Bruins</td>\n",
       "      <td>1990</td>\n",
       "      <td>44</td>\n",
       "      <td>24</td>\n",
       "      <td>0</td>\n",
       "      <td>0.55</td>\n",
       "      <td>299</td>\n",
       "      <td>264</td>\n",
       "    </tr>\n",
       "    <tr>\n",
       "      <th>1</th>\n",
       "      <td>Buffalo Sabres</td>\n",
       "      <td>1990</td>\n",
       "      <td>31</td>\n",
       "      <td>30</td>\n",
       "      <td>0</td>\n",
       "      <td>0.39</td>\n",
       "      <td>292</td>\n",
       "      <td>278</td>\n",
       "    </tr>\n",
       "    <tr>\n",
       "      <th>2</th>\n",
       "      <td>Calgary Flames</td>\n",
       "      <td>1990</td>\n",
       "      <td>46</td>\n",
       "      <td>26</td>\n",
       "      <td>0</td>\n",
       "      <td>0.57</td>\n",
       "      <td>344</td>\n",
       "      <td>263</td>\n",
       "    </tr>\n",
       "    <tr>\n",
       "      <th>3</th>\n",
       "      <td>Chicago Blackhawks</td>\n",
       "      <td>1990</td>\n",
       "      <td>49</td>\n",
       "      <td>23</td>\n",
       "      <td>0</td>\n",
       "      <td>0.61</td>\n",
       "      <td>284</td>\n",
       "      <td>211</td>\n",
       "    </tr>\n",
       "    <tr>\n",
       "      <th>4</th>\n",
       "      <td>Detroit Red Wings</td>\n",
       "      <td>1990</td>\n",
       "      <td>34</td>\n",
       "      <td>38</td>\n",
       "      <td>0</td>\n",
       "      <td>0.42</td>\n",
       "      <td>273</td>\n",
       "      <td>298</td>\n",
       "    </tr>\n",
       "  </tbody>\n",
       "</table>\n",
       "</div>"
      ],
      "text/plain": [
       "            team_name  year  wins  losses  ot_losses  win_pct  goals_for  \\\n",
       "0       Boston Bruins  1990    44      24          0     0.55        299   \n",
       "1      Buffalo Sabres  1990    31      30          0     0.39        292   \n",
       "2      Calgary Flames  1990    46      26          0     0.57        344   \n",
       "3  Chicago Blackhawks  1990    49      23          0     0.61        284   \n",
       "4   Detroit Red Wings  1990    34      38          0     0.42        273   \n",
       "\n",
       "   goals_against  \n",
       "0            264  \n",
       "1            278  \n",
       "2            263  \n",
       "3            211  \n",
       "4            298  "
      ]
     },
     "execution_count": 4,
     "metadata": {},
     "output_type": "execute_result"
    }
   ],
   "source": [
    "# Define the file path for the hockey team stats dataset\n",
    "dataset_file_path = \"../data/processed/hockey_team_stats.csv\"\n",
    "\n",
    "# Load the dataset into the main dataframe\n",
    "main_df = pd.read_csv(dataset_file_path, index_col=False)\n",
    "\n",
    "# Create a working copy of the dataframe\n",
    "hockey_df  = main_df.copy(deep=True)\n",
    "\n",
    "# Display an initial view of the dataframe\n",
    "hockey_df.head()"
   ]
  },
  {
   "cell_type": "markdown",
   "metadata": {},
   "source": [
    "💬 **Comment:**\n",
    "\n",
    "As the data has been processed, the remaining concern pertains to data types. We will now verify whether the columns have the correct data types assigned.<br>\n",
    "If needed, we'll proceed with the necessary data type adjustments."
   ]
  },
  {
   "cell_type": "code",
   "execution_count": 5,
   "metadata": {},
   "outputs": [
    {
     "data": {
      "text/plain": [
       "team_name         object\n",
       "year               int64\n",
       "wins               int64\n",
       "losses             int64\n",
       "ot_losses          int64\n",
       "win_pct          float64\n",
       "goals_for          int64\n",
       "goals_against      int64\n",
       "dtype: object"
      ]
     },
     "execution_count": 5,
     "metadata": {},
     "output_type": "execute_result"
    }
   ],
   "source": [
    "# Check datatype of columns\n",
    "hockey_df.dtypes"
   ]
  },
  {
   "cell_type": "markdown",
   "metadata": {},
   "source": [
    "💡**Insights:**\n",
    "\n",
    "Optimal data types for the `team_name` and `year` columns are `categorical`.<br>\n",
    "Consequently, we should modify the data type of these two columns before advancing into the data analysis phase."
   ]
  },
  {
   "cell_type": "code",
   "execution_count": 6,
   "metadata": {},
   "outputs": [
    {
     "data": {
      "text/plain": [
       "team_name        category\n",
       "year             category\n",
       "wins                int64\n",
       "losses              int64\n",
       "ot_losses           int64\n",
       "win_pct           float64\n",
       "goals_for           int64\n",
       "goals_against       int64\n",
       "dtype: object"
      ]
     },
     "execution_count": 6,
     "metadata": {},
     "output_type": "execute_result"
    }
   ],
   "source": [
    "# Convert data types to \"category\" for specific columns\n",
    "hockey_df = hockey_df.astype({\"year\":\"category\", \"team_name\": \"category\"})\n",
    "\n",
    "# Verify the updated data types\n",
    "hockey_df.dtypes"
   ]
  },
  {
   "cell_type": "markdown",
   "metadata": {},
   "source": [
    "💬 **Comment:**\n",
    "\n",
    "Let's inspect the dataset's information to gain a comprehensive understanding of its structure, including the data types, memory usage, and the presence of missing values.<br>\n",
    "This will assist us in preparing for the subsequent data analysis."
   ]
  },
  {
   "cell_type": "code",
   "execution_count": 7,
   "metadata": {},
   "outputs": [
    {
     "name": "stdout",
     "output_type": "stream",
     "text": [
      "<class 'pandas.core.frame.DataFrame'>\n",
      "RangeIndex: 582 entries, 0 to 581\n",
      "Data columns (total 8 columns):\n",
      " #   Column         Non-Null Count  Dtype   \n",
      "---  ------         --------------  -----   \n",
      " 0   team_name      582 non-null    category\n",
      " 1   year           582 non-null    category\n",
      " 2   wins           582 non-null    int64   \n",
      " 3   losses         582 non-null    int64   \n",
      " 4   ot_losses      582 non-null    int64   \n",
      " 5   win_pct        582 non-null    float64 \n",
      " 6   goals_for      582 non-null    int64   \n",
      " 7   goals_against  582 non-null    int64   \n",
      "dtypes: category(2), float64(1), int64(5)\n",
      "memory usage: 32.8 KB\n"
     ]
    }
   ],
   "source": [
    "# Check the info\n",
    "hockey_df.info(memory_usage ='deep')"
   ]
  },
  {
   "cell_type": "markdown",
   "metadata": {},
   "source": [
    "💡 **Insights:**\n",
    "\n",
    "With the data properly cleaned, and data type adjustments made, our dataset is now primed for in-depth data analysis and compelling visualizations."
   ]
  },
  {
   "cell_type": "markdown",
   "metadata": {},
   "source": [
    "## Comprehensive Data Analysis\n",
    "\n",
    "In our data analysis journey, we have outlined a series of pivotal tasks designed to unravel the nuances of hockey team statistics:\n",
    "\n",
    "1. **Win & Win Percentage Analysis**: We'll delve into the historical and recent performance of the teams, evaluating their wins and win percentages.\n",
    "2. **Loss & OT Loss Analysis**: We'll assess the teams' losses and OT losses over the same period to understand the challenges they faced.\n",
    "3. **Goals Analysis**: Goals are the heart of hockey; we'll analyze the total goals scored and conceded to identify teams with strong offensive and defensive capabilities.\n",
    "4. **Ranking Analysis**: We'll create rankings based on chosen metrics and compare historical and recent team rankings to find consistent performers.\n",
    "5. **Trend Analysis of Top & Bottom Performers**: We'll track the trends of top and bottom-performing teams, highlighting their historical and recent performance to determine the GOAT team.\n",
    "\n",
    "In the pursuit of our analysis, we recognize the need for specific calculated columns to enrich our insights:\n",
    "\n",
    "- **Total Losses**: This column represents the summation of regular losses and overtime losses, providing a comprehensive view of a team's struggles.\n",
    "- **OT Loss Percentage**: This metric is calculated as the percentage of overtime losses out of the total losses, and it serves as an indicator of teams that frequently engage in extended matches to ultimately lose the game.\n",
    "- **Goal Differential**: This column showcases the disparity between goals scored and goals conceded. It serves as a key factor in categorizing teams as either offensive powerhouses or stalwart defensive units.\n",
    "\n",
    "To ensure our analyses encapsulate both the broader historical context and the specific dynamics of the past five years, we will construct a dedicated sub-dataframe that captures the essence of recent performances. This strategic approach amplifies the depth and relevance of our insights, providing a holistic understanding of the intricate world of hockey team statistics.\n"
   ]
  },
  {
   "cell_type": "code",
   "execution_count": 8,
   "metadata": {
    "tags": []
   },
   "outputs": [
    {
     "data": {
      "text/html": [
       "<div>\n",
       "<style scoped>\n",
       "    .dataframe tbody tr th:only-of-type {\n",
       "        vertical-align: middle;\n",
       "    }\n",
       "\n",
       "    .dataframe tbody tr th {\n",
       "        vertical-align: top;\n",
       "    }\n",
       "\n",
       "    .dataframe thead th {\n",
       "        text-align: right;\n",
       "    }\n",
       "</style>\n",
       "<table border=\"1\" class=\"dataframe\">\n",
       "  <thead>\n",
       "    <tr style=\"text-align: right;\">\n",
       "      <th></th>\n",
       "      <th>team_name</th>\n",
       "      <th>year</th>\n",
       "      <th>wins</th>\n",
       "      <th>losses</th>\n",
       "      <th>ot_losses</th>\n",
       "      <th>win_pct</th>\n",
       "      <th>goals_for</th>\n",
       "      <th>goals_against</th>\n",
       "      <th>total_losses</th>\n",
       "      <th>ot_loss_to_loss_ratio</th>\n",
       "      <th>loss_to_win_ratio</th>\n",
       "      <th>goals_diff</th>\n",
       "    </tr>\n",
       "  </thead>\n",
       "  <tbody>\n",
       "    <tr>\n",
       "      <th>0</th>\n",
       "      <td>Boston Bruins</td>\n",
       "      <td>1990</td>\n",
       "      <td>44</td>\n",
       "      <td>24</td>\n",
       "      <td>0</td>\n",
       "      <td>0.55</td>\n",
       "      <td>299</td>\n",
       "      <td>264</td>\n",
       "      <td>24</td>\n",
       "      <td>0.0</td>\n",
       "      <td>0.55</td>\n",
       "      <td>35</td>\n",
       "    </tr>\n",
       "    <tr>\n",
       "      <th>1</th>\n",
       "      <td>Buffalo Sabres</td>\n",
       "      <td>1990</td>\n",
       "      <td>31</td>\n",
       "      <td>30</td>\n",
       "      <td>0</td>\n",
       "      <td>0.39</td>\n",
       "      <td>292</td>\n",
       "      <td>278</td>\n",
       "      <td>30</td>\n",
       "      <td>0.0</td>\n",
       "      <td>0.97</td>\n",
       "      <td>14</td>\n",
       "    </tr>\n",
       "    <tr>\n",
       "      <th>2</th>\n",
       "      <td>Calgary Flames</td>\n",
       "      <td>1990</td>\n",
       "      <td>46</td>\n",
       "      <td>26</td>\n",
       "      <td>0</td>\n",
       "      <td>0.57</td>\n",
       "      <td>344</td>\n",
       "      <td>263</td>\n",
       "      <td>26</td>\n",
       "      <td>0.0</td>\n",
       "      <td>0.57</td>\n",
       "      <td>81</td>\n",
       "    </tr>\n",
       "    <tr>\n",
       "      <th>3</th>\n",
       "      <td>Chicago Blackhawks</td>\n",
       "      <td>1990</td>\n",
       "      <td>49</td>\n",
       "      <td>23</td>\n",
       "      <td>0</td>\n",
       "      <td>0.61</td>\n",
       "      <td>284</td>\n",
       "      <td>211</td>\n",
       "      <td>23</td>\n",
       "      <td>0.0</td>\n",
       "      <td>0.47</td>\n",
       "      <td>73</td>\n",
       "    </tr>\n",
       "    <tr>\n",
       "      <th>4</th>\n",
       "      <td>Detroit Red Wings</td>\n",
       "      <td>1990</td>\n",
       "      <td>34</td>\n",
       "      <td>38</td>\n",
       "      <td>0</td>\n",
       "      <td>0.42</td>\n",
       "      <td>273</td>\n",
       "      <td>298</td>\n",
       "      <td>38</td>\n",
       "      <td>0.0</td>\n",
       "      <td>1.12</td>\n",
       "      <td>-25</td>\n",
       "    </tr>\n",
       "  </tbody>\n",
       "</table>\n",
       "</div>"
      ],
      "text/plain": [
       "            team_name  year  wins  losses  ot_losses  win_pct  goals_for  \\\n",
       "0       Boston Bruins  1990    44      24          0     0.55        299   \n",
       "1      Buffalo Sabres  1990    31      30          0     0.39        292   \n",
       "2      Calgary Flames  1990    46      26          0     0.57        344   \n",
       "3  Chicago Blackhawks  1990    49      23          0     0.61        284   \n",
       "4   Detroit Red Wings  1990    34      38          0     0.42        273   \n",
       "\n",
       "   goals_against  total_losses  ot_loss_to_loss_ratio  loss_to_win_ratio  \\\n",
       "0            264            24                    0.0               0.55   \n",
       "1            278            30                    0.0               0.97   \n",
       "2            263            26                    0.0               0.57   \n",
       "3            211            23                    0.0               0.47   \n",
       "4            298            38                    0.0               1.12   \n",
       "\n",
       "   goals_diff  \n",
       "0          35  \n",
       "1          14  \n",
       "2          81  \n",
       "3          73  \n",
       "4         -25  "
      ]
     },
     "execution_count": 8,
     "metadata": {},
     "output_type": "execute_result"
    }
   ],
   "source": [
    "# Add calculated columns to the dataframe\n",
    "hockey_df = hockey_df.assign(\n",
    "    total_losses = hockey_df[\"losses\"] + hockey_df[\"ot_losses\"],\n",
    "    ot_loss_to_loss_ratio = hockey_df[\"ot_losses\"] / hockey_df[\"losses\"],\n",
    "    loss_to_win_ratio = hockey_df[\"losses\"] / hockey_df[\"wins\"],\n",
    "    goals_diff = hockey_df[\"goals_for\"] - hockey_df[\"goals_against\"]\n",
    ")\n",
    "\n",
    "# View the dataframe\n",
    "hockey_df.head()"
   ]
  },
  {
   "cell_type": "code",
   "execution_count": 9,
   "metadata": {
    "tags": []
   },
   "outputs": [
    {
     "data": {
      "text/plain": [
       "[2011, 2010, 2009, 2008, 2007]"
      ]
     },
     "execution_count": 9,
     "metadata": {},
     "output_type": "execute_result"
    }
   ],
   "source": [
    "# Get last five years\n",
    "lfy = sorted(hockey_df[\"year\"].unique(), reverse=True)[:5]\n",
    "lfy"
   ]
  },
  {
   "cell_type": "code",
   "execution_count": 10,
   "metadata": {
    "tags": []
   },
   "outputs": [
    {
     "data": {
      "text/html": [
       "<div>\n",
       "<style scoped>\n",
       "    .dataframe tbody tr th:only-of-type {\n",
       "        vertical-align: middle;\n",
       "    }\n",
       "\n",
       "    .dataframe tbody tr th {\n",
       "        vertical-align: top;\n",
       "    }\n",
       "\n",
       "    .dataframe thead th {\n",
       "        text-align: right;\n",
       "    }\n",
       "</style>\n",
       "<table border=\"1\" class=\"dataframe\">\n",
       "  <thead>\n",
       "    <tr style=\"text-align: right;\">\n",
       "      <th></th>\n",
       "      <th>team_name</th>\n",
       "      <th>year</th>\n",
       "      <th>wins</th>\n",
       "      <th>losses</th>\n",
       "      <th>ot_losses</th>\n",
       "      <th>win_pct</th>\n",
       "      <th>goals_for</th>\n",
       "      <th>goals_against</th>\n",
       "      <th>total_losses</th>\n",
       "      <th>ot_loss_to_loss_ratio</th>\n",
       "      <th>loss_to_win_ratio</th>\n",
       "      <th>goals_diff</th>\n",
       "    </tr>\n",
       "  </thead>\n",
       "  <tbody>\n",
       "    <tr>\n",
       "      <th>0</th>\n",
       "      <td>Anaheim Ducks</td>\n",
       "      <td>2007</td>\n",
       "      <td>47</td>\n",
       "      <td>27</td>\n",
       "      <td>8</td>\n",
       "      <td>0.57</td>\n",
       "      <td>205</td>\n",
       "      <td>191</td>\n",
       "      <td>35</td>\n",
       "      <td>0.30</td>\n",
       "      <td>0.57</td>\n",
       "      <td>14</td>\n",
       "    </tr>\n",
       "    <tr>\n",
       "      <th>1</th>\n",
       "      <td>Atlanta Thrashers</td>\n",
       "      <td>2007</td>\n",
       "      <td>34</td>\n",
       "      <td>40</td>\n",
       "      <td>8</td>\n",
       "      <td>0.41</td>\n",
       "      <td>216</td>\n",
       "      <td>272</td>\n",
       "      <td>48</td>\n",
       "      <td>0.20</td>\n",
       "      <td>1.18</td>\n",
       "      <td>-56</td>\n",
       "    </tr>\n",
       "    <tr>\n",
       "      <th>2</th>\n",
       "      <td>Boston Bruins</td>\n",
       "      <td>2007</td>\n",
       "      <td>41</td>\n",
       "      <td>29</td>\n",
       "      <td>12</td>\n",
       "      <td>0.50</td>\n",
       "      <td>212</td>\n",
       "      <td>222</td>\n",
       "      <td>41</td>\n",
       "      <td>0.41</td>\n",
       "      <td>0.71</td>\n",
       "      <td>-10</td>\n",
       "    </tr>\n",
       "    <tr>\n",
       "      <th>3</th>\n",
       "      <td>Buffalo Sabres</td>\n",
       "      <td>2007</td>\n",
       "      <td>39</td>\n",
       "      <td>31</td>\n",
       "      <td>12</td>\n",
       "      <td>0.48</td>\n",
       "      <td>255</td>\n",
       "      <td>242</td>\n",
       "      <td>43</td>\n",
       "      <td>0.39</td>\n",
       "      <td>0.79</td>\n",
       "      <td>13</td>\n",
       "    </tr>\n",
       "    <tr>\n",
       "      <th>4</th>\n",
       "      <td>Calgary Flames</td>\n",
       "      <td>2007</td>\n",
       "      <td>42</td>\n",
       "      <td>30</td>\n",
       "      <td>10</td>\n",
       "      <td>0.51</td>\n",
       "      <td>229</td>\n",
       "      <td>227</td>\n",
       "      <td>40</td>\n",
       "      <td>0.33</td>\n",
       "      <td>0.71</td>\n",
       "      <td>2</td>\n",
       "    </tr>\n",
       "  </tbody>\n",
       "</table>\n",
       "</div>"
      ],
      "text/plain": [
       "           team_name  year  wins  losses  ot_losses  win_pct  goals_for  \\\n",
       "0      Anaheim Ducks  2007    47      27          8     0.57        205   \n",
       "1  Atlanta Thrashers  2007    34      40          8     0.41        216   \n",
       "2      Boston Bruins  2007    41      29         12     0.50        212   \n",
       "3     Buffalo Sabres  2007    39      31         12     0.48        255   \n",
       "4     Calgary Flames  2007    42      30         10     0.51        229   \n",
       "\n",
       "   goals_against  total_losses  ot_loss_to_loss_ratio  loss_to_win_ratio  \\\n",
       "0            191            35                   0.30               0.57   \n",
       "1            272            48                   0.20               1.18   \n",
       "2            222            41                   0.41               0.71   \n",
       "3            242            43                   0.39               0.79   \n",
       "4            227            40                   0.33               0.71   \n",
       "\n",
       "   goals_diff  \n",
       "0          14  \n",
       "1         -56  \n",
       "2         -10  \n",
       "3          13  \n",
       "4           2  "
      ]
     },
     "execution_count": 10,
     "metadata": {},
     "output_type": "execute_result"
    }
   ],
   "source": [
    "# Use last five years filter to create sub-dataframe\n",
    "hockey_df_lfy = hockey_df[hockey_df[\"year\"].isin(lfy)].reset_index(drop=True)\n",
    "\n",
    "# View a glimpse of the sub-dataframe\n",
    "hockey_df_lfy.head()"
   ]
  },
  {
   "cell_type": "markdown",
   "metadata": {},
   "source": [
    "💬**Comment:**\n",
    "\n",
    "We now have two distinct dataframes for our analysis: \n",
    "- `hockey_df`: Encompassing the entire dataset\n",
    "- `hockey_df_lfy`: Tailored to assess performance within the last five years."
   ]
  },
  {
   "cell_type": "markdown",
   "metadata": {},
   "source": [
    "### Win & Win Percentage Analysis"
   ]
  },
  {
   "cell_type": "code",
   "execution_count": 11,
   "metadata": {
    "tags": []
   },
   "outputs": [
    {
     "name": "stdout",
     "output_type": "stream",
     "text": [
      "\n",
      "\n"
     ]
    },
    {
     "data": {
      "text/html": [
       "<pre style=\"white-space:pre;overflow-x:auto;line-height:normal;font-family:Menlo,'DejaVu Sans Mono',consolas,'Courier New',monospace\"><span style=\"font-style: italic\">        All Time Top 5 Teams by Wins        </span>\n",
       "┏━━━━━━━┳━━━━━━━━━━━━━━━━━━━━━┳━━━━━━━━━━━━┓\n",
       "┃<span style=\"font-weight: bold\"> Index </span>┃<span style=\"font-weight: bold\"> Team Name           </span>┃<span style=\"font-weight: bold\"> Total Wins </span>┃\n",
       "┡━━━━━━━╇━━━━━━━━━━━━━━━━━━━━━╇━━━━━━━━━━━━┩\n",
       "│ 0     │<span style=\"color: #008080; text-decoration-color: #008080\"> Detroit Red Wings   </span>│<span style=\"color: #008000; text-decoration-color: #008000\"> 986        </span>│\n",
       "│ 1     │<span style=\"color: #008080; text-decoration-color: #008080\"> New Jersey Devils   </span>│<span style=\"color: #008000; text-decoration-color: #008000\"> 905        </span>│\n",
       "│ 2     │<span style=\"color: #008080; text-decoration-color: #008080\"> Pittsburgh Penguins </span>│<span style=\"color: #008000; text-decoration-color: #008000\"> 839        </span>│\n",
       "│ 3     │<span style=\"color: #008080; text-decoration-color: #008080\"> Philadelphia Flyers </span>│<span style=\"color: #008000; text-decoration-color: #008000\"> 836        </span>│\n",
       "│ 4     │<span style=\"color: #008080; text-decoration-color: #008080\"> Boston Bruins       </span>│<span style=\"color: #008000; text-decoration-color: #008000\"> 816        </span>│\n",
       "└───────┴─────────────────────┴────────────┘\n",
       "</pre>\n"
      ],
      "text/plain": [
       "\u001b[3m        All Time Top 5 Teams by Wins        \u001b[0m\n",
       "┏━━━━━━━┳━━━━━━━━━━━━━━━━━━━━━┳━━━━━━━━━━━━┓\n",
       "┃\u001b[1m \u001b[0m\u001b[1mIndex\u001b[0m\u001b[1m \u001b[0m┃\u001b[1m \u001b[0m\u001b[1mTeam Name          \u001b[0m\u001b[1m \u001b[0m┃\u001b[1m \u001b[0m\u001b[1mTotal Wins\u001b[0m\u001b[1m \u001b[0m┃\n",
       "┡━━━━━━━╇━━━━━━━━━━━━━━━━━━━━━╇━━━━━━━━━━━━┩\n",
       "│ 0     │\u001b[36m \u001b[0m\u001b[36mDetroit Red Wings  \u001b[0m\u001b[36m \u001b[0m│\u001b[32m \u001b[0m\u001b[32m986       \u001b[0m\u001b[32m \u001b[0m│\n",
       "│ 1     │\u001b[36m \u001b[0m\u001b[36mNew Jersey Devils  \u001b[0m\u001b[36m \u001b[0m│\u001b[32m \u001b[0m\u001b[32m905       \u001b[0m\u001b[32m \u001b[0m│\n",
       "│ 2     │\u001b[36m \u001b[0m\u001b[36mPittsburgh Penguins\u001b[0m\u001b[36m \u001b[0m│\u001b[32m \u001b[0m\u001b[32m839       \u001b[0m\u001b[32m \u001b[0m│\n",
       "│ 3     │\u001b[36m \u001b[0m\u001b[36mPhiladelphia Flyers\u001b[0m\u001b[36m \u001b[0m│\u001b[32m \u001b[0m\u001b[32m836       \u001b[0m\u001b[32m \u001b[0m│\n",
       "│ 4     │\u001b[36m \u001b[0m\u001b[36mBoston Bruins      \u001b[0m\u001b[36m \u001b[0m│\u001b[32m \u001b[0m\u001b[32m816       \u001b[0m\u001b[32m \u001b[0m│\n",
       "└───────┴─────────────────────┴────────────┘\n"
      ]
     },
     "metadata": {},
     "output_type": "display_data"
    },
    {
     "name": "stdout",
     "output_type": "stream",
     "text": [
      "\n",
      "\n"
     ]
    },
    {
     "data": {
      "text/html": [
       "<pre style=\"white-space:pre;overflow-x:auto;line-height:normal;font-family:Menlo,'DejaVu Sans Mono',consolas,'Courier New',monospace\"><span style=\"font-style: italic\">         Last 5 Years Top 5 Teams by Wins         </span>\n",
       "┏━━━━━━━┳━━━━━━━━━━━━━━━━━━━━━┳━━━━━━━━━━━━━━━━━━┓\n",
       "┃<span style=\"font-weight: bold\"> Index </span>┃<span style=\"font-weight: bold\"> Team Name           </span>┃<span style=\"font-weight: bold\"> Total Wins (LFY) </span>┃\n",
       "┡━━━━━━━╇━━━━━━━━━━━━━━━━━━━━━╇━━━━━━━━━━━━━━━━━━┩\n",
       "│ 0     │<span style=\"color: #008080; text-decoration-color: #008080\"> Detroit Red Wings   </span>│<span style=\"color: #008000; text-decoration-color: #008000\"> 244              </span>│\n",
       "│ 1     │<span style=\"color: #008080; text-decoration-color: #008080\"> San Jose Sharks     </span>│<span style=\"color: #008000; text-decoration-color: #008000\"> 244              </span>│\n",
       "│ 2     │<span style=\"color: #008080; text-decoration-color: #008080\"> Pittsburgh Penguins </span>│<span style=\"color: #008000; text-decoration-color: #008000\"> 239              </span>│\n",
       "│ 3     │<span style=\"color: #008080; text-decoration-color: #008080\"> Vancouver Canucks   </span>│<span style=\"color: #008000; text-decoration-color: #008000\"> 238              </span>│\n",
       "│ 4     │<span style=\"color: #008080; text-decoration-color: #008080\"> Washington Capitals </span>│<span style=\"color: #008000; text-decoration-color: #008000\"> 237              </span>│\n",
       "└───────┴─────────────────────┴──────────────────┘\n",
       "</pre>\n"
      ],
      "text/plain": [
       "\u001b[3m         Last 5 Years Top 5 Teams by Wins         \u001b[0m\n",
       "┏━━━━━━━┳━━━━━━━━━━━━━━━━━━━━━┳━━━━━━━━━━━━━━━━━━┓\n",
       "┃\u001b[1m \u001b[0m\u001b[1mIndex\u001b[0m\u001b[1m \u001b[0m┃\u001b[1m \u001b[0m\u001b[1mTeam Name          \u001b[0m\u001b[1m \u001b[0m┃\u001b[1m \u001b[0m\u001b[1mTotal Wins (LFY)\u001b[0m\u001b[1m \u001b[0m┃\n",
       "┡━━━━━━━╇━━━━━━━━━━━━━━━━━━━━━╇━━━━━━━━━━━━━━━━━━┩\n",
       "│ 0     │\u001b[36m \u001b[0m\u001b[36mDetroit Red Wings  \u001b[0m\u001b[36m \u001b[0m│\u001b[32m \u001b[0m\u001b[32m244             \u001b[0m\u001b[32m \u001b[0m│\n",
       "│ 1     │\u001b[36m \u001b[0m\u001b[36mSan Jose Sharks    \u001b[0m\u001b[36m \u001b[0m│\u001b[32m \u001b[0m\u001b[32m244             \u001b[0m\u001b[32m \u001b[0m│\n",
       "│ 2     │\u001b[36m \u001b[0m\u001b[36mPittsburgh Penguins\u001b[0m\u001b[36m \u001b[0m│\u001b[32m \u001b[0m\u001b[32m239             \u001b[0m\u001b[32m \u001b[0m│\n",
       "│ 3     │\u001b[36m \u001b[0m\u001b[36mVancouver Canucks  \u001b[0m\u001b[36m \u001b[0m│\u001b[32m \u001b[0m\u001b[32m238             \u001b[0m\u001b[32m \u001b[0m│\n",
       "│ 4     │\u001b[36m \u001b[0m\u001b[36mWashington Capitals\u001b[0m\u001b[36m \u001b[0m│\u001b[32m \u001b[0m\u001b[32m237             \u001b[0m\u001b[32m \u001b[0m│\n",
       "└───────┴─────────────────────┴──────────────────┘\n"
      ]
     },
     "metadata": {},
     "output_type": "display_data"
    }
   ],
   "source": [
    "# Get all time top-5 teams by total wins\n",
    "wins_t5 =  hdu.top_n_teams(hockey_df, \"wins\", \"sum\", 5).rename(columns={\"team_name\": \"Team Name\", \"wins\": \"Total Wins\"})\n",
    "\n",
    "# Get last 5 years top-5 teams by total wins\n",
    "wins_t5_lfy = hdu.top_n_teams(hockey_df_lfy, \"wins\", \"sum\", 5).rename(columns={\"team_name\": \"Team Name\", \"wins\": \"Total Wins (LFY)\"})\n",
    "\n",
    "print(\"\\n\")\n",
    "hdu.pretty_print_topn_df(wins_t5, title=\"All Time Top 5 Teams by Wins\")\n",
    "print(\"\\n\")\n",
    "hdu.pretty_print_topn_df(wins_t5_lfy, title=\"Last 5 Years Top 5 Teams by Wins\")"
   ]
  },
  {
   "cell_type": "code",
   "execution_count": 12,
   "metadata": {
    "tags": []
   },
   "outputs": [
    {
     "name": "stdout",
     "output_type": "stream",
     "text": [
      "\n",
      "\n"
     ]
    },
    {
     "data": {
      "text/html": [
       "<pre style=\"white-space:pre;overflow-x:auto;line-height:normal;font-family:Menlo,'DejaVu Sans Mono',consolas,'Courier New',monospace\"><span style=\"font-style: italic\">    All Time Top 5 Teams by Average Wins     </span>\n",
       "┏━━━━━━━┳━━━━━━━━━━━━━━━━━━━━┳━━━━━━━━━━━━━━┓\n",
       "┃<span style=\"font-weight: bold\"> Index </span>┃<span style=\"font-weight: bold\"> Team Name          </span>┃<span style=\"font-weight: bold\"> Average Wins </span>┃\n",
       "┡━━━━━━━╇━━━━━━━━━━━━━━━━━━━━╇━━━━━━━━━━━━━━┩\n",
       "│ 0     │<span style=\"color: #008080; text-decoration-color: #008080\"> Detroit Red Wings  </span>│<span style=\"color: #008000; text-decoration-color: #008000\"> 46.95        </span>│\n",
       "│ 1     │<span style=\"color: #008080; text-decoration-color: #008080\"> New Jersey Devils  </span>│<span style=\"color: #008000; text-decoration-color: #008000\"> 43.1         </span>│\n",
       "│ 2     │<span style=\"color: #008080; text-decoration-color: #008080\"> Anaheim Ducks      </span>│<span style=\"color: #008000; text-decoration-color: #008000\"> 42.83        </span>│\n",
       "│ 3     │<span style=\"color: #008080; text-decoration-color: #008080\"> Colorado Avalanche </span>│<span style=\"color: #008000; text-decoration-color: #008000\"> 42.31        </span>│\n",
       "│ 4     │<span style=\"color: #008080; text-decoration-color: #008080\"> Dallas Stars       </span>│<span style=\"color: #008000; text-decoration-color: #008000\"> 41.78        </span>│\n",
       "└───────┴────────────────────┴──────────────┘\n",
       "</pre>\n"
      ],
      "text/plain": [
       "\u001b[3m    All Time Top 5 Teams by Average Wins     \u001b[0m\n",
       "┏━━━━━━━┳━━━━━━━━━━━━━━━━━━━━┳━━━━━━━━━━━━━━┓\n",
       "┃\u001b[1m \u001b[0m\u001b[1mIndex\u001b[0m\u001b[1m \u001b[0m┃\u001b[1m \u001b[0m\u001b[1mTeam Name         \u001b[0m\u001b[1m \u001b[0m┃\u001b[1m \u001b[0m\u001b[1mAverage Wins\u001b[0m\u001b[1m \u001b[0m┃\n",
       "┡━━━━━━━╇━━━━━━━━━━━━━━━━━━━━╇━━━━━━━━━━━━━━┩\n",
       "│ 0     │\u001b[36m \u001b[0m\u001b[36mDetroit Red Wings \u001b[0m\u001b[36m \u001b[0m│\u001b[32m \u001b[0m\u001b[32m46.95       \u001b[0m\u001b[32m \u001b[0m│\n",
       "│ 1     │\u001b[36m \u001b[0m\u001b[36mNew Jersey Devils \u001b[0m\u001b[36m \u001b[0m│\u001b[32m \u001b[0m\u001b[32m43.1        \u001b[0m\u001b[32m \u001b[0m│\n",
       "│ 2     │\u001b[36m \u001b[0m\u001b[36mAnaheim Ducks     \u001b[0m\u001b[36m \u001b[0m│\u001b[32m \u001b[0m\u001b[32m42.83       \u001b[0m\u001b[32m \u001b[0m│\n",
       "│ 3     │\u001b[36m \u001b[0m\u001b[36mColorado Avalanche\u001b[0m\u001b[36m \u001b[0m│\u001b[32m \u001b[0m\u001b[32m42.31       \u001b[0m\u001b[32m \u001b[0m│\n",
       "│ 4     │\u001b[36m \u001b[0m\u001b[36mDallas Stars      \u001b[0m\u001b[36m \u001b[0m│\u001b[32m \u001b[0m\u001b[32m41.78       \u001b[0m\u001b[32m \u001b[0m│\n",
       "└───────┴────────────────────┴──────────────┘\n"
      ]
     },
     "metadata": {},
     "output_type": "display_data"
    },
    {
     "name": "stdout",
     "output_type": "stream",
     "text": [
      "\n",
      "\n"
     ]
    },
    {
     "data": {
      "text/html": [
       "<pre style=\"white-space:pre;overflow-x:auto;line-height:normal;font-family:Menlo,'DejaVu Sans Mono',consolas,'Courier New',monospace\"><span style=\"font-style: italic\">      Last 5 Years Top 5 Teams by Average Wins      </span>\n",
       "┏━━━━━━━┳━━━━━━━━━━━━━━━━━━━━━┳━━━━━━━━━━━━━━━━━━━━┓\n",
       "┃<span style=\"font-weight: bold\"> Index </span>┃<span style=\"font-weight: bold\"> Team Name           </span>┃<span style=\"font-weight: bold\"> Average Wins (LFY) </span>┃\n",
       "┡━━━━━━━╇━━━━━━━━━━━━━━━━━━━━━╇━━━━━━━━━━━━━━━━━━━━┩\n",
       "│ 0     │<span style=\"color: #008080; text-decoration-color: #008080\"> Detroit Red Wings   </span>│<span style=\"color: #008000; text-decoration-color: #008000\"> 48.8               </span>│\n",
       "│ 1     │<span style=\"color: #008080; text-decoration-color: #008080\"> San Jose Sharks     </span>│<span style=\"color: #008000; text-decoration-color: #008000\"> 48.8               </span>│\n",
       "│ 2     │<span style=\"color: #008080; text-decoration-color: #008080\"> Pittsburgh Penguins </span>│<span style=\"color: #008000; text-decoration-color: #008000\"> 47.8               </span>│\n",
       "│ 3     │<span style=\"color: #008080; text-decoration-color: #008080\"> Vancouver Canucks   </span>│<span style=\"color: #008000; text-decoration-color: #008000\"> 47.6               </span>│\n",
       "│ 4     │<span style=\"color: #008080; text-decoration-color: #008080\"> Washington Capitals </span>│<span style=\"color: #008000; text-decoration-color: #008000\"> 47.4               </span>│\n",
       "└───────┴─────────────────────┴────────────────────┘\n",
       "</pre>\n"
      ],
      "text/plain": [
       "\u001b[3m      Last 5 Years Top 5 Teams by Average Wins      \u001b[0m\n",
       "┏━━━━━━━┳━━━━━━━━━━━━━━━━━━━━━┳━━━━━━━━━━━━━━━━━━━━┓\n",
       "┃\u001b[1m \u001b[0m\u001b[1mIndex\u001b[0m\u001b[1m \u001b[0m┃\u001b[1m \u001b[0m\u001b[1mTeam Name          \u001b[0m\u001b[1m \u001b[0m┃\u001b[1m \u001b[0m\u001b[1mAverage Wins (LFY)\u001b[0m\u001b[1m \u001b[0m┃\n",
       "┡━━━━━━━╇━━━━━━━━━━━━━━━━━━━━━╇━━━━━━━━━━━━━━━━━━━━┩\n",
       "│ 0     │\u001b[36m \u001b[0m\u001b[36mDetroit Red Wings  \u001b[0m\u001b[36m \u001b[0m│\u001b[32m \u001b[0m\u001b[32m48.8              \u001b[0m\u001b[32m \u001b[0m│\n",
       "│ 1     │\u001b[36m \u001b[0m\u001b[36mSan Jose Sharks    \u001b[0m\u001b[36m \u001b[0m│\u001b[32m \u001b[0m\u001b[32m48.8              \u001b[0m\u001b[32m \u001b[0m│\n",
       "│ 2     │\u001b[36m \u001b[0m\u001b[36mPittsburgh Penguins\u001b[0m\u001b[36m \u001b[0m│\u001b[32m \u001b[0m\u001b[32m47.8              \u001b[0m\u001b[32m \u001b[0m│\n",
       "│ 3     │\u001b[36m \u001b[0m\u001b[36mVancouver Canucks  \u001b[0m\u001b[36m \u001b[0m│\u001b[32m \u001b[0m\u001b[32m47.6              \u001b[0m\u001b[32m \u001b[0m│\n",
       "│ 4     │\u001b[36m \u001b[0m\u001b[36mWashington Capitals\u001b[0m\u001b[36m \u001b[0m│\u001b[32m \u001b[0m\u001b[32m47.4              \u001b[0m\u001b[32m \u001b[0m│\n",
       "└───────┴─────────────────────┴────────────────────┘\n"
      ]
     },
     "metadata": {},
     "output_type": "display_data"
    }
   ],
   "source": [
    "# Get all time top-5 teams by avergae wins\n",
    "avg_wins_t5 =  hdu.top_n_teams(hockey_df, \"wins\", \"mean\", 5).rename(columns={\"team_name\": \"Team Name\", \"wins\": \"Average Wins\"})\n",
    "avg_wins_t5[\"Average Wins\"] = avg_wins_t5[\"Average Wins\"].round(2)\n",
    "\n",
    "# Get last 5 years top-5 teams by average wins\n",
    "avg_wins_t5_lfy = hdu.top_n_teams(hockey_df_lfy, \"wins\", \"mean\", 5).rename(columns={\"team_name\": \"Team Name\", \"wins\": \"Average Wins (LFY)\"})\n",
    "avg_wins_t5_lfy[\"Average Wins (LFY)\"] = avg_wins_t5_lfy[\"Average Wins (LFY)\"].round(2)\n",
    "\n",
    "print(\"\\n\")\n",
    "hdu.pretty_print_topn_df(avg_wins_t5, title=\"All Time Top 5 Teams by Average Wins\")\n",
    "print(\"\\n\")\n",
    "hdu.pretty_print_topn_df(avg_wins_t5_lfy, title=\"Last 5 Years Top 5 Teams by Average Wins\")"
   ]
  },
  {
   "cell_type": "code",
   "execution_count": 13,
   "metadata": {
    "tags": []
   },
   "outputs": [
    {
     "name": "stdout",
     "output_type": "stream",
     "text": [
      "\n",
      "\n"
     ]
    },
    {
     "data": {
      "text/html": [
       "<pre style=\"white-space:pre;overflow-x:auto;line-height:normal;font-family:Menlo,'DejaVu Sans Mono',consolas,'Courier New',monospace\"><span style=\"font-style: italic\">    All Time Top 5 Teams by Average Win%     </span>\n",
       "┏━━━━━━━┳━━━━━━━━━━━━━━━━━━━━┳━━━━━━━━━━━━━━┓\n",
       "┃<span style=\"font-weight: bold\"> Index </span>┃<span style=\"font-weight: bold\"> Team Name          </span>┃<span style=\"font-weight: bold\"> Average Win% </span>┃\n",
       "┡━━━━━━━╇━━━━━━━━━━━━━━━━━━━━╇━━━━━━━━━━━━━━┩\n",
       "│ 0     │<span style=\"color: #008080; text-decoration-color: #008080\"> Detroit Red Wings  </span>│<span style=\"color: #008000; text-decoration-color: #008000\"> 0.59         </span>│\n",
       "│ 1     │<span style=\"color: #008080; text-decoration-color: #008080\"> New Jersey Devils  </span>│<span style=\"color: #008000; text-decoration-color: #008000\"> 0.53         </span>│\n",
       "│ 2     │<span style=\"color: #008080; text-decoration-color: #008080\"> Anaheim Ducks      </span>│<span style=\"color: #008000; text-decoration-color: #008000\"> 0.52         </span>│\n",
       "│ 3     │<span style=\"color: #008080; text-decoration-color: #008080\"> Dallas Stars       </span>│<span style=\"color: #008000; text-decoration-color: #008000\"> 0.52         </span>│\n",
       "│ 4     │<span style=\"color: #008080; text-decoration-color: #008080\"> Colorado Avalanche </span>│<span style=\"color: #008000; text-decoration-color: #008000\"> 0.52         </span>│\n",
       "└───────┴────────────────────┴──────────────┘\n",
       "</pre>\n"
      ],
      "text/plain": [
       "\u001b[3m    All Time Top 5 Teams by Average Win%     \u001b[0m\n",
       "┏━━━━━━━┳━━━━━━━━━━━━━━━━━━━━┳━━━━━━━━━━━━━━┓\n",
       "┃\u001b[1m \u001b[0m\u001b[1mIndex\u001b[0m\u001b[1m \u001b[0m┃\u001b[1m \u001b[0m\u001b[1mTeam Name         \u001b[0m\u001b[1m \u001b[0m┃\u001b[1m \u001b[0m\u001b[1mAverage Win%\u001b[0m\u001b[1m \u001b[0m┃\n",
       "┡━━━━━━━╇━━━━━━━━━━━━━━━━━━━━╇━━━━━━━━━━━━━━┩\n",
       "│ 0     │\u001b[36m \u001b[0m\u001b[36mDetroit Red Wings \u001b[0m\u001b[36m \u001b[0m│\u001b[32m \u001b[0m\u001b[32m0.59        \u001b[0m\u001b[32m \u001b[0m│\n",
       "│ 1     │\u001b[36m \u001b[0m\u001b[36mNew Jersey Devils \u001b[0m\u001b[36m \u001b[0m│\u001b[32m \u001b[0m\u001b[32m0.53        \u001b[0m\u001b[32m \u001b[0m│\n",
       "│ 2     │\u001b[36m \u001b[0m\u001b[36mAnaheim Ducks     \u001b[0m\u001b[36m \u001b[0m│\u001b[32m \u001b[0m\u001b[32m0.52        \u001b[0m\u001b[32m \u001b[0m│\n",
       "│ 3     │\u001b[36m \u001b[0m\u001b[36mDallas Stars      \u001b[0m\u001b[36m \u001b[0m│\u001b[32m \u001b[0m\u001b[32m0.52        \u001b[0m\u001b[32m \u001b[0m│\n",
       "│ 4     │\u001b[36m \u001b[0m\u001b[36mColorado Avalanche\u001b[0m\u001b[36m \u001b[0m│\u001b[32m \u001b[0m\u001b[32m0.52        \u001b[0m\u001b[32m \u001b[0m│\n",
       "└───────┴────────────────────┴──────────────┘\n"
      ]
     },
     "metadata": {},
     "output_type": "display_data"
    },
    {
     "name": "stdout",
     "output_type": "stream",
     "text": [
      "\n",
      "\n"
     ]
    },
    {
     "data": {
      "text/html": [
       "<pre style=\"white-space:pre;overflow-x:auto;line-height:normal;font-family:Menlo,'DejaVu Sans Mono',consolas,'Courier New',monospace\"><span style=\"font-style: italic\">      Last 5 Years Top 5 Teams by Average Win%      </span>\n",
       "┏━━━━━━━┳━━━━━━━━━━━━━━━━━━━━━┳━━━━━━━━━━━━━━━━━━━━┓\n",
       "┃<span style=\"font-weight: bold\"> Index </span>┃<span style=\"font-weight: bold\"> Team Name           </span>┃<span style=\"font-weight: bold\"> Average Win% (LFY) </span>┃\n",
       "┡━━━━━━━╇━━━━━━━━━━━━━━━━━━━━━╇━━━━━━━━━━━━━━━━━━━━┩\n",
       "│ 0     │<span style=\"color: #008080; text-decoration-color: #008080\"> Detroit Red Wings   </span>│<span style=\"color: #008000; text-decoration-color: #008000\"> 0.6                </span>│\n",
       "│ 1     │<span style=\"color: #008080; text-decoration-color: #008080\"> San Jose Sharks     </span>│<span style=\"color: #008000; text-decoration-color: #008000\"> 0.6                </span>│\n",
       "│ 2     │<span style=\"color: #008080; text-decoration-color: #008080\"> Pittsburgh Penguins </span>│<span style=\"color: #008000; text-decoration-color: #008000\"> 0.58               </span>│\n",
       "│ 3     │<span style=\"color: #008080; text-decoration-color: #008080\"> Vancouver Canucks   </span>│<span style=\"color: #008000; text-decoration-color: #008000\"> 0.58               </span>│\n",
       "│ 4     │<span style=\"color: #008080; text-decoration-color: #008080\"> Washington Capitals </span>│<span style=\"color: #008000; text-decoration-color: #008000\"> 0.58               </span>│\n",
       "└───────┴─────────────────────┴────────────────────┘\n",
       "</pre>\n"
      ],
      "text/plain": [
       "\u001b[3m      Last 5 Years Top 5 Teams by Average Win%      \u001b[0m\n",
       "┏━━━━━━━┳━━━━━━━━━━━━━━━━━━━━━┳━━━━━━━━━━━━━━━━━━━━┓\n",
       "┃\u001b[1m \u001b[0m\u001b[1mIndex\u001b[0m\u001b[1m \u001b[0m┃\u001b[1m \u001b[0m\u001b[1mTeam Name          \u001b[0m\u001b[1m \u001b[0m┃\u001b[1m \u001b[0m\u001b[1mAverage Win% (LFY)\u001b[0m\u001b[1m \u001b[0m┃\n",
       "┡━━━━━━━╇━━━━━━━━━━━━━━━━━━━━━╇━━━━━━━━━━━━━━━━━━━━┩\n",
       "│ 0     │\u001b[36m \u001b[0m\u001b[36mDetroit Red Wings  \u001b[0m\u001b[36m \u001b[0m│\u001b[32m \u001b[0m\u001b[32m0.6               \u001b[0m\u001b[32m \u001b[0m│\n",
       "│ 1     │\u001b[36m \u001b[0m\u001b[36mSan Jose Sharks    \u001b[0m\u001b[36m \u001b[0m│\u001b[32m \u001b[0m\u001b[32m0.6               \u001b[0m\u001b[32m \u001b[0m│\n",
       "│ 2     │\u001b[36m \u001b[0m\u001b[36mPittsburgh Penguins\u001b[0m\u001b[36m \u001b[0m│\u001b[32m \u001b[0m\u001b[32m0.58              \u001b[0m\u001b[32m \u001b[0m│\n",
       "│ 3     │\u001b[36m \u001b[0m\u001b[36mVancouver Canucks  \u001b[0m\u001b[36m \u001b[0m│\u001b[32m \u001b[0m\u001b[32m0.58              \u001b[0m\u001b[32m \u001b[0m│\n",
       "│ 4     │\u001b[36m \u001b[0m\u001b[36mWashington Capitals\u001b[0m\u001b[36m \u001b[0m│\u001b[32m \u001b[0m\u001b[32m0.58              \u001b[0m\u001b[32m \u001b[0m│\n",
       "└───────┴─────────────────────┴────────────────────┘\n"
      ]
     },
     "metadata": {},
     "output_type": "display_data"
    }
   ],
   "source": [
    "# Get all time top-5 teams by avergae win %\n",
    "avg_winpct_t5 =  hdu.top_n_teams(hockey_df, \"win_pct\", \"mean\", 5).rename(columns={\"team_name\": \"Team Name\", \"win_pct\": \"Average Win%\"})\n",
    "avg_winpct_t5[\"Average Win%\"] = avg_winpct_t5[\"Average Win%\"].round(2)\n",
    "\n",
    "# Get last 5 years top-5 teams by average win %\n",
    "avg_winpct_t5_lfy = hdu.top_n_teams(hockey_df_lfy, \"win_pct\", \"mean\", 5).rename(columns={\"team_name\": \"Team Name\", \"win_pct\": \"Average Win% (LFY)\"})\n",
    "avg_winpct_t5_lfy[\"Average Win% (LFY)\"] = avg_winpct_t5_lfy[\"Average Win% (LFY)\"].round(2)\n",
    "\n",
    "print(\"\\n\")\n",
    "hdu.pretty_print_topn_df(avg_winpct_t5, title=\"All Time Top 5 Teams by Average Win%\")\n",
    "print(\"\\n\")\n",
    "hdu.pretty_print_topn_df(avg_winpct_t5_lfy, title=\"Last 5 Years Top 5 Teams by Average Win%\")"
   ]
  },
  {
   "cell_type": "markdown",
   "metadata": {
    "tags": []
   },
   "source": [
    "#### Win & Win Percentage Analysis Plot"
   ]
  },
  {
   "cell_type": "code",
   "execution_count": 14,
   "metadata": {},
   "outputs": [
    {
     "data": {
      "image/png": "[encoded data removed]",
      "text/plain": [
       "<Figure size 1000x1000 with 6 Axes>"
      ]
     },
     "metadata": {},
     "output_type": "display_data"
    }
   ],
   "source": [
    "# Plot styling\n",
    "plt.style.use(\"seaborn-pastel\")\n",
    "\n",
    "# Dataframes for various metrics\n",
    "dataframes = [\n",
    "    wins_t5.sort_values(by='Total Wins', ascending=True),\n",
    "    wins_t5_lfy.sort_values(by='Total Wins (LFY)', ascending=True),\n",
    "    avg_wins_t5.sort_values(by='Average Wins', ascending=True),\n",
    "    avg_wins_t5_lfy.sort_values(by='Average Wins (LFY)', ascending=True),\n",
    "    avg_winpct_t5.sort_values(by='Average Win%', ascending=True),\n",
    "    avg_winpct_t5_lfy.sort_values(by='Average Win% (LFY)', ascending=True)\n",
    "]\n",
    "\n",
    "# Create figure and axes\n",
    "fig, axes = plt.subplots(3, 2, figsize=(10, 10))\n",
    "axes = axes.flatten()\n",
    "\n",
    "# Set different colors for specific plots\n",
    "colors = [\"#7bdff2\", \"#b2f7ef\",\"#7bdff2\", \"#b2f7ef\", \"#7bdff2\", \"#b2f7ef\"]\n",
    "\n",
    "# Loop to create and customize the subplots\n",
    "for i, (df, color, ax) in enumerate(zip(dataframes, colors, axes)):\n",
    "    ax.barh(df['Team Name'], df[df.columns[-1]], color=color)\n",
    "    if i == 0:\n",
    "        ax.set_title(\"All Time\", fontweight=\"bold\", pad=20, fontsize=10)\n",
    "        ax.set_ylabel(\"Total Wins\", fontweight=\"bold\", labelpad=25, fontsize=10)\n",
    "    if i == 1:\n",
    "        ax.set_title(\"Last Five Years\", fontweight=\"bold\", pad=20, fontsize=10)\n",
    "        \n",
    "    if i == 2:\n",
    "        ax.set_ylabel(\"Average Wins\", fontweight=\"bold\", labelpad=25, fontsize=10)\n",
    "    if i == 4:\n",
    "        ax.set_ylabel(\"Average Win%\", fontweight=\"bold\", labelpad=25, fontsize=10)\n",
    "        \n",
    "        \n",
    "    \n",
    "    ax.tick_params(axis='y', labelsize=8)\n",
    "    ax.tick_params(axis='x', labelsize=8)\n",
    "    \n",
    "\n",
    "sns.despine()\n",
    "\n",
    "# Add figure title\n",
    "fig.suptitle(f'Wins & Win % Analysis: Top 5 Teams', fontweight=\"bold\", y=0.92, x=0.5)\n",
    "\n",
    "# Subplot gaps and layout management\n",
    "fig.tight_layout(pad=5)\n",
    "\n",
    "# Show plot\n",
    "plt.show()\n"
   ]
  },
  {
   "cell_type": "markdown",
   "metadata": {},
   "source": [
    "#### Top-3 Teams by Weighted Win Score"
   ]
  },
  {
   "cell_type": "markdown",
   "metadata": {},
   "source": [
    "Since the teams are differing in all time and last five year comparision and we are also comparing on the basis of total wins, average wins and average win percentage, a better metric to get an idea of which are top-3 that outperformed others would be finding a \"weight score\" by normalizing the metrics.\n",
    "\n",
    "In order to find the weighted score, we need to provide more weightage to recent year, i.e., last 5 years metric and the weights for different conlumns are as follows:\n",
    "\n",
    "| Column Name        | Weightage |\n",
    "|--------------------|-----------|\n",
    "| Average Win% (LFY) | 0.35      |\n",
    "| Average Wins (LFY) | 0.25      |\n",
    "| Total Wins (LFY)   | 0.15      |\n",
    "| Average Win%       | 0.12      |\n",
    "| Average Wins       | 0.08      |\n",
    "| Total Wins         | 0.05      |\n",
    "\n"
   ]
  },
  {
   "cell_type": "code",
   "execution_count": 15,
   "metadata": {
    "tags": []
   },
   "outputs": [
    {
     "data": {
      "text/html": [
       "<div>\n",
       "<style scoped>\n",
       "    .dataframe tbody tr th:only-of-type {\n",
       "        vertical-align: middle;\n",
       "    }\n",
       "\n",
       "    .dataframe tbody tr th {\n",
       "        vertical-align: top;\n",
       "    }\n",
       "\n",
       "    .dataframe thead th {\n",
       "        text-align: right;\n",
       "    }\n",
       "</style>\n",
       "<table border=\"1\" class=\"dataframe\">\n",
       "  <thead>\n",
       "    <tr style=\"text-align: right;\">\n",
       "      <th></th>\n",
       "      <th>team_name</th>\n",
       "      <th>weighted_score</th>\n",
       "    </tr>\n",
       "  </thead>\n",
       "  <tbody>\n",
       "    <tr>\n",
       "      <th>0</th>\n",
       "      <td>Detroit Red Wings</td>\n",
       "      <td>100.00</td>\n",
       "    </tr>\n",
       "    <tr>\n",
       "      <th>1</th>\n",
       "      <td>Pittsburgh Penguins</td>\n",
       "      <td>77.27</td>\n",
       "    </tr>\n",
       "    <tr>\n",
       "      <th>2</th>\n",
       "      <td>San Jose Sharks</td>\n",
       "      <td>75.00</td>\n",
       "    </tr>\n",
       "  </tbody>\n",
       "</table>\n",
       "</div>"
      ],
      "text/plain": [
       "             team_name  weighted_score\n",
       "0    Detroit Red Wings          100.00\n",
       "1  Pittsburgh Penguins           77.27\n",
       "2      San Jose Sharks           75.00"
      ]
     },
     "execution_count": 15,
     "metadata": {},
     "output_type": "execute_result"
    }
   ],
   "source": [
    "# Create scalar object\n",
    "scaler = MinMaxScaler()\n",
    "\n",
    "# Concatenating Dataframes\n",
    "df_list = [wins_t5, wins_t5_lfy, avg_wins_t5, avg_wins_t5_lfy, avg_winpct_t5, avg_winpct_t5_lfy]\n",
    "combined_df = pd.concat([df.set_index(\"Team Name\") for df in df_list], axis=1, join='outer').reset_index()\n",
    "\n",
    "# Specify the columns you want to scale\n",
    "columns_to_scale = combined_df.drop(columns=\"Team Name\").columns\n",
    "\n",
    "# Fill NaN with zeros\n",
    "combined_df[columns_to_scale] = combined_df[columns_to_scale].fillna(0)\n",
    "\n",
    "# Fit and transform the selected columns using the scaler\n",
    "combined_df[columns_to_scale] = scaler.fit_transform(combined_df[columns_to_scale])\n",
    "\n",
    "# Calculating \"weighted_score\"\n",
    "combined_df[\"weighted_score\"] = (combined_df[\"Average Win% (LFY)\"] * 0.35 + combined_df[\"Average Wins (LFY)\"] * 0.25 \n",
    "                         + combined_df[\"Total Wins (LFY)\"] * 0.15 + combined_df[\"Average Win%\"]*0.12 + combined_df[\"Average Wins\"]*0.08 + combined_df[\"Total Wins\"]*0.05) * 100\n",
    "\n",
    "# Grouping data and take the top-3\n",
    "win_score_df = hdu.top_n_teams(combined_df.rename(columns={\"Team Name\":\"team_name\"}), \"weighted_score\", agg_func=\"sum\", n=3)\n",
    "\n",
    "# View the data\n",
    "win_score_df"
   ]
  },
  {
   "cell_type": "markdown",
   "metadata": {},
   "source": [
    "Without a doubt, **Detroit Red Wings** firmly establishes their status as the Greatest of All Time (G.O.A.T) in the world of hockey.\n",
    "\n",
    "However, it's worth noting that teams like the **San Jose Sharks** and the **Pittsburgh Penguins** are poised to emerge as formidable competitors, challenging the long-standing dominance of **Detroit Red Wings**.<br>\n",
    "Here goes the logo for the Top-3 winners:\n",
    "\n",
    "![Detroit Red Wings Logo](https://a.espncdn.com/combiner/i?img=/i/teamlogos/nhl/500/det.png&h=90&w=90)<br>\n",
    "**Detroit Red Wings - G.O.A.T 🐐**\n",
    "\n",
    "![Pittsburgh Penguins Logo](https://a.espncdn.com/combiner/i?img=/i/teamlogos/nhl/500/pit.png&h=90&w=90)<br>\n",
    "**Pittsburgh Penguins**\n",
    "\n",
    "![San Jose Sharks Logo](https://a.espncdn.com/combiner/i?img=/i/teamlogos/nhl/500/sj.png&h=90&w=90)<br>\n",
    "**San Jose Sharks**"
   ]
  },
  {
   "cell_type": "markdown",
   "metadata": {},
   "source": [
    "### Loss & OT Loss Analysis"
   ]
  },
  {
   "cell_type": "code",
   "execution_count": 16,
   "metadata": {
    "tags": []
   },
   "outputs": [
    {
     "name": "stdout",
     "output_type": "stream",
     "text": [
      "\n",
      "\n"
     ]
    },
    {
     "data": {
      "text/html": [
       "<pre style=\"white-space:pre;overflow-x:auto;line-height:normal;font-family:Menlo,'DejaVu Sans Mono',consolas,'Courier New',monospace\"><span style=\"font-style: italic\">        All Time Top 5 Teams by Losses        </span>\n",
       "┏━━━━━━━┳━━━━━━━━━━━━━━━━━━━━━┳━━━━━━━━━━━━━━┓\n",
       "┃<span style=\"font-weight: bold\"> Index </span>┃<span style=\"font-weight: bold\"> Team Name           </span>┃<span style=\"font-weight: bold\"> Total Losses </span>┃\n",
       "┡━━━━━━━╇━━━━━━━━━━━━━━━━━━━━━╇━━━━━━━━━━━━━━┩\n",
       "│ 0     │<span style=\"color: #008080; text-decoration-color: #008080\"> New York Islanders  </span>│<span style=\"color: #008000; text-decoration-color: #008000\"> 819          </span>│\n",
       "│ 1     │<span style=\"color: #008080; text-decoration-color: #008080\"> Edmonton Oilers     </span>│<span style=\"color: #008000; text-decoration-color: #008000\"> 758          </span>│\n",
       "│ 2     │<span style=\"color: #008080; text-decoration-color: #008080\"> Tampa Bay Lightning </span>│<span style=\"color: #008000; text-decoration-color: #008000\"> 732          </span>│\n",
       "│ 3     │<span style=\"color: #008080; text-decoration-color: #008080\"> Los Angeles Kings   </span>│<span style=\"color: #008000; text-decoration-color: #008000\"> 707          </span>│\n",
       "│ 4     │<span style=\"color: #008080; text-decoration-color: #008080\"> Toronto Maple Leafs </span>│<span style=\"color: #008000; text-decoration-color: #008000\"> 695          </span>│\n",
       "└───────┴─────────────────────┴──────────────┘\n",
       "</pre>\n"
      ],
      "text/plain": [
       "\u001b[3m        All Time Top 5 Teams by Losses        \u001b[0m\n",
       "┏━━━━━━━┳━━━━━━━━━━━━━━━━━━━━━┳━━━━━━━━━━━━━━┓\n",
       "┃\u001b[1m \u001b[0m\u001b[1mIndex\u001b[0m\u001b[1m \u001b[0m┃\u001b[1m \u001b[0m\u001b[1mTeam Name          \u001b[0m\u001b[1m \u001b[0m┃\u001b[1m \u001b[0m\u001b[1mTotal Losses\u001b[0m\u001b[1m \u001b[0m┃\n",
       "┡━━━━━━━╇━━━━━━━━━━━━━━━━━━━━━╇━━━━━━━━━━━━━━┩\n",
       "│ 0     │\u001b[36m \u001b[0m\u001b[36mNew York Islanders \u001b[0m\u001b[36m \u001b[0m│\u001b[32m \u001b[0m\u001b[32m819         \u001b[0m\u001b[32m \u001b[0m│\n",
       "│ 1     │\u001b[36m \u001b[0m\u001b[36mEdmonton Oilers    \u001b[0m\u001b[36m \u001b[0m│\u001b[32m \u001b[0m\u001b[32m758         \u001b[0m\u001b[32m \u001b[0m│\n",
       "│ 2     │\u001b[36m \u001b[0m\u001b[36mTampa Bay Lightning\u001b[0m\u001b[36m \u001b[0m│\u001b[32m \u001b[0m\u001b[32m732         \u001b[0m\u001b[32m \u001b[0m│\n",
       "│ 3     │\u001b[36m \u001b[0m\u001b[36mLos Angeles Kings  \u001b[0m\u001b[36m \u001b[0m│\u001b[32m \u001b[0m\u001b[32m707         \u001b[0m\u001b[32m \u001b[0m│\n",
       "│ 4     │\u001b[36m \u001b[0m\u001b[36mToronto Maple Leafs\u001b[0m\u001b[36m \u001b[0m│\u001b[32m \u001b[0m\u001b[32m695         \u001b[0m\u001b[32m \u001b[0m│\n",
       "└───────┴─────────────────────┴──────────────┘\n"
      ]
     },
     "metadata": {},
     "output_type": "display_data"
    },
    {
     "name": "stdout",
     "output_type": "stream",
     "text": [
      "\n",
      "\n"
     ]
    },
    {
     "data": {
      "text/html": [
       "<pre style=\"white-space:pre;overflow-x:auto;line-height:normal;font-family:Menlo,'DejaVu Sans Mono',consolas,'Courier New',monospace\"><span style=\"font-style: italic\">          Last 5 Years Top 5 Teams by Losses          </span>\n",
       "┏━━━━━━━┳━━━━━━━━━━━━━━━━━━━━━━━┳━━━━━━━━━━━━━━━━━━━━┓\n",
       "┃<span style=\"font-weight: bold\"> Index </span>┃<span style=\"font-weight: bold\"> Team Name             </span>┃<span style=\"font-weight: bold\"> Total Losses (LFY) </span>┃\n",
       "┡━━━━━━━╇━━━━━━━━━━━━━━━━━━━━━━━╇━━━━━━━━━━━━━━━━━━━━┩\n",
       "│ 0     │<span style=\"color: #008080; text-decoration-color: #008080\"> Edmonton Oilers       </span>│<span style=\"color: #008000; text-decoration-color: #008000\"> 202                </span>│\n",
       "│ 1     │<span style=\"color: #008080; text-decoration-color: #008080\"> New York Islanders    </span>│<span style=\"color: #008000; text-decoration-color: #008000\"> 198                </span>│\n",
       "│ 2     │<span style=\"color: #008080; text-decoration-color: #008080\"> Colorado Avalanche    </span>│<span style=\"color: #008000; text-decoration-color: #008000\"> 185                </span>│\n",
       "│ 3     │<span style=\"color: #008080; text-decoration-color: #008080\"> Columbus Blue Jackets </span>│<span style=\"color: #008000; text-decoration-color: #008000\"> 183                </span>│\n",
       "│ 4     │<span style=\"color: #008080; text-decoration-color: #008080\"> Tampa Bay Lightning   </span>│<span style=\"color: #008000; text-decoration-color: #008000\"> 179                </span>│\n",
       "└───────┴───────────────────────┴────────────────────┘\n",
       "</pre>\n"
      ],
      "text/plain": [
       "\u001b[3m          Last 5 Years Top 5 Teams by Losses          \u001b[0m\n",
       "┏━━━━━━━┳━━━━━━━━━━━━━━━━━━━━━━━┳━━━━━━━━━━━━━━━━━━━━┓\n",
       "┃\u001b[1m \u001b[0m\u001b[1mIndex\u001b[0m\u001b[1m \u001b[0m┃\u001b[1m \u001b[0m\u001b[1mTeam Name            \u001b[0m\u001b[1m \u001b[0m┃\u001b[1m \u001b[0m\u001b[1mTotal Losses (LFY)\u001b[0m\u001b[1m \u001b[0m┃\n",
       "┡━━━━━━━╇━━━━━━━━━━━━━━━━━━━━━━━╇━━━━━━━━━━━━━━━━━━━━┩\n",
       "│ 0     │\u001b[36m \u001b[0m\u001b[36mEdmonton Oilers      \u001b[0m\u001b[36m \u001b[0m│\u001b[32m \u001b[0m\u001b[32m202               \u001b[0m\u001b[32m \u001b[0m│\n",
       "│ 1     │\u001b[36m \u001b[0m\u001b[36mNew York Islanders   \u001b[0m\u001b[36m \u001b[0m│\u001b[32m \u001b[0m\u001b[32m198               \u001b[0m\u001b[32m \u001b[0m│\n",
       "│ 2     │\u001b[36m \u001b[0m\u001b[36mColorado Avalanche   \u001b[0m\u001b[36m \u001b[0m│\u001b[32m \u001b[0m\u001b[32m185               \u001b[0m\u001b[32m \u001b[0m│\n",
       "│ 3     │\u001b[36m \u001b[0m\u001b[36mColumbus Blue Jackets\u001b[0m\u001b[36m \u001b[0m│\u001b[32m \u001b[0m\u001b[32m183               \u001b[0m\u001b[32m \u001b[0m│\n",
       "│ 4     │\u001b[36m \u001b[0m\u001b[36mTampa Bay Lightning  \u001b[0m\u001b[36m \u001b[0m│\u001b[32m \u001b[0m\u001b[32m179               \u001b[0m\u001b[32m \u001b[0m│\n",
       "└───────┴───────────────────────┴────────────────────┘\n"
      ]
     },
     "metadata": {},
     "output_type": "display_data"
    }
   ],
   "source": [
    "# Get all time top-5 teams by total losses\n",
    "losses_t5 =  hdu.top_n_teams(hockey_df, \"losses\", \"sum\", 5).rename(columns={\"team_name\": \"Team Name\", \"losses\": \"Total Losses\"})\n",
    "\n",
    "# Get last 5 years top-5 teams by total losses\n",
    "losses_t5_lfy = hdu.top_n_teams(hockey_df_lfy, \"losses\", \"sum\", 5).rename(columns={\"team_name\": \"Team Name\", \"losses\": \"Total Losses (LFY)\"})\n",
    "\n",
    "print(\"\\n\")\n",
    "hdu.pretty_print_topn_df(losses_t5, title=\"All Time Top 5 Teams by Losses\")\n",
    "print(\"\\n\")\n",
    "hdu.pretty_print_topn_df(losses_t5_lfy, title=\"Last 5 Years Top 5 Teams by Losses\")"
   ]
  },
  {
   "cell_type": "code",
   "execution_count": 17,
   "metadata": {
    "tags": []
   },
   "outputs": [
    {
     "name": "stdout",
     "output_type": "stream",
     "text": [
      "\n",
      "\n"
     ]
    },
    {
     "data": {
      "text/html": [
       "<pre style=\"white-space:pre;overflow-x:auto;line-height:normal;font-family:Menlo,'DejaVu Sans Mono',consolas,'Courier New',monospace\"><span style=\"font-style: italic\">      All Time Top 5 Teams by Average Losses      </span>\n",
       "┏━━━━━━━┳━━━━━━━━━━━━━━━━━━━━━━━┳━━━━━━━━━━━━━━━━┓\n",
       "┃<span style=\"font-weight: bold\"> Index </span>┃<span style=\"font-weight: bold\"> Team Name             </span>┃<span style=\"font-weight: bold\"> Average Losses </span>┃\n",
       "┡━━━━━━━╇━━━━━━━━━━━━━━━━━━━━━━━╇━━━━━━━━━━━━━━━━┩\n",
       "│ 0     │<span style=\"color: #008080; text-decoration-color: #008080\"> Hartford Whalers      </span>│<span style=\"color: #008000; text-decoration-color: #008000\"> 40.14          </span>│\n",
       "│ 1     │<span style=\"color: #008080; text-decoration-color: #008080\"> Columbus Blue Jackets </span>│<span style=\"color: #008000; text-decoration-color: #008000\"> 40.09          </span>│\n",
       "│ 2     │<span style=\"color: #008080; text-decoration-color: #008080\"> Atlanta Thrashers     </span>│<span style=\"color: #008000; text-decoration-color: #008000\"> 39.73          </span>│\n",
       "│ 3     │<span style=\"color: #008080; text-decoration-color: #008080\"> Minnesota North Stars </span>│<span style=\"color: #008000; text-decoration-color: #008000\"> 39.67          </span>│\n",
       "│ 4     │<span style=\"color: #008080; text-decoration-color: #008080\"> New York Islanders    </span>│<span style=\"color: #008000; text-decoration-color: #008000\"> 39.0           </span>│\n",
       "└───────┴───────────────────────┴────────────────┘\n",
       "</pre>\n"
      ],
      "text/plain": [
       "\u001b[3m      All Time Top 5 Teams by Average Losses      \u001b[0m\n",
       "┏━━━━━━━┳━━━━━━━━━━━━━━━━━━━━━━━┳━━━━━━━━━━━━━━━━┓\n",
       "┃\u001b[1m \u001b[0m\u001b[1mIndex\u001b[0m\u001b[1m \u001b[0m┃\u001b[1m \u001b[0m\u001b[1mTeam Name            \u001b[0m\u001b[1m \u001b[0m┃\u001b[1m \u001b[0m\u001b[1mAverage Losses\u001b[0m\u001b[1m \u001b[0m┃\n",
       "┡━━━━━━━╇━━━━━━━━━━━━━━━━━━━━━━━╇━━━━━━━━━━━━━━━━┩\n",
       "│ 0     │\u001b[36m \u001b[0m\u001b[36mHartford Whalers     \u001b[0m\u001b[36m \u001b[0m│\u001b[32m \u001b[0m\u001b[32m40.14         \u001b[0m\u001b[32m \u001b[0m│\n",
       "│ 1     │\u001b[36m \u001b[0m\u001b[36mColumbus Blue Jackets\u001b[0m\u001b[36m \u001b[0m│\u001b[32m \u001b[0m\u001b[32m40.09         \u001b[0m\u001b[32m \u001b[0m│\n",
       "│ 2     │\u001b[36m \u001b[0m\u001b[36mAtlanta Thrashers    \u001b[0m\u001b[36m \u001b[0m│\u001b[32m \u001b[0m\u001b[32m39.73         \u001b[0m\u001b[32m \u001b[0m│\n",
       "│ 3     │\u001b[36m \u001b[0m\u001b[36mMinnesota North Stars\u001b[0m\u001b[36m \u001b[0m│\u001b[32m \u001b[0m\u001b[32m39.67         \u001b[0m\u001b[32m \u001b[0m│\n",
       "│ 4     │\u001b[36m \u001b[0m\u001b[36mNew York Islanders   \u001b[0m\u001b[36m \u001b[0m│\u001b[32m \u001b[0m\u001b[32m39.0          \u001b[0m\u001b[32m \u001b[0m│\n",
       "└───────┴───────────────────────┴────────────────┘\n"
      ]
     },
     "metadata": {},
     "output_type": "display_data"
    },
    {
     "name": "stdout",
     "output_type": "stream",
     "text": [
      "\n",
      "\n"
     ]
    },
    {
     "data": {
      "text/html": [
       "<pre style=\"white-space:pre;overflow-x:auto;line-height:normal;font-family:Menlo,'DejaVu Sans Mono',consolas,'Courier New',monospace\"><span style=\"font-style: italic\">       Last 5 Years Top 5 Teams by Average Losses       </span>\n",
       "┏━━━━━━━┳━━━━━━━━━━━━━━━━━━━━━━━┳━━━━━━━━━━━━━━━━━━━━━━┓\n",
       "┃<span style=\"font-weight: bold\"> Index </span>┃<span style=\"font-weight: bold\"> Team Name             </span>┃<span style=\"font-weight: bold\"> Average Losses (LFY) </span>┃\n",
       "┡━━━━━━━╇━━━━━━━━━━━━━━━━━━━━━━━╇━━━━━━━━━━━━━━━━━━━━━━┩\n",
       "│ 0     │<span style=\"color: #008080; text-decoration-color: #008080\"> Edmonton Oilers       </span>│<span style=\"color: #008000; text-decoration-color: #008000\"> 40.4                 </span>│\n",
       "│ 1     │<span style=\"color: #008080; text-decoration-color: #008080\"> New York Islanders    </span>│<span style=\"color: #008000; text-decoration-color: #008000\"> 39.6                 </span>│\n",
       "│ 2     │<span style=\"color: #008080; text-decoration-color: #008080\"> Atlanta Thrashers     </span>│<span style=\"color: #008000; text-decoration-color: #008000\"> 37.75                </span>│\n",
       "│ 3     │<span style=\"color: #008080; text-decoration-color: #008080\"> Colorado Avalanche    </span>│<span style=\"color: #008000; text-decoration-color: #008000\"> 37.0                 </span>│\n",
       "│ 4     │<span style=\"color: #008080; text-decoration-color: #008080\"> Columbus Blue Jackets </span>│<span style=\"color: #008000; text-decoration-color: #008000\"> 36.6                 </span>│\n",
       "└───────┴───────────────────────┴──────────────────────┘\n",
       "</pre>\n"
      ],
      "text/plain": [
       "\u001b[3m       Last 5 Years Top 5 Teams by Average Losses       \u001b[0m\n",
       "┏━━━━━━━┳━━━━━━━━━━━━━━━━━━━━━━━┳━━━━━━━━━━━━━━━━━━━━━━┓\n",
       "┃\u001b[1m \u001b[0m\u001b[1mIndex\u001b[0m\u001b[1m \u001b[0m┃\u001b[1m \u001b[0m\u001b[1mTeam Name            \u001b[0m\u001b[1m \u001b[0m┃\u001b[1m \u001b[0m\u001b[1mAverage Losses (LFY)\u001b[0m\u001b[1m \u001b[0m┃\n",
       "┡━━━━━━━╇━━━━━━━━━━━━━━━━━━━━━━━╇━━━━━━━━━━━━━━━━━━━━━━┩\n",
       "│ 0     │\u001b[36m \u001b[0m\u001b[36mEdmonton Oilers      \u001b[0m\u001b[36m \u001b[0m│\u001b[32m \u001b[0m\u001b[32m40.4                \u001b[0m\u001b[32m \u001b[0m│\n",
       "│ 1     │\u001b[36m \u001b[0m\u001b[36mNew York Islanders   \u001b[0m\u001b[36m \u001b[0m│\u001b[32m \u001b[0m\u001b[32m39.6                \u001b[0m\u001b[32m \u001b[0m│\n",
       "│ 2     │\u001b[36m \u001b[0m\u001b[36mAtlanta Thrashers    \u001b[0m\u001b[36m \u001b[0m│\u001b[32m \u001b[0m\u001b[32m37.75               \u001b[0m\u001b[32m \u001b[0m│\n",
       "│ 3     │\u001b[36m \u001b[0m\u001b[36mColorado Avalanche   \u001b[0m\u001b[36m \u001b[0m│\u001b[32m \u001b[0m\u001b[32m37.0                \u001b[0m\u001b[32m \u001b[0m│\n",
       "│ 4     │\u001b[36m \u001b[0m\u001b[36mColumbus Blue Jackets\u001b[0m\u001b[36m \u001b[0m│\u001b[32m \u001b[0m\u001b[32m36.6                \u001b[0m\u001b[32m \u001b[0m│\n",
       "└───────┴───────────────────────┴──────────────────────┘\n"
      ]
     },
     "metadata": {},
     "output_type": "display_data"
    }
   ],
   "source": [
    "# Get all time top-5 teams by total losses\n",
    "avg_losses_t5 =  hdu.top_n_teams(hockey_df, \"losses\", \"mean\", 5).rename(columns={\"team_name\": \"Team Name\", \"losses\": \"Average Losses\"}).round(2)\n",
    "\n",
    "# Get last 5 years top-5 teams by total losses\n",
    "avg_losses_t5_lfy = hdu.top_n_teams(hockey_df_lfy, \"losses\", \"mean\", 5).rename(columns={\"team_name\": \"Team Name\", \"losses\": \"Average Losses (LFY)\"}).round(2)\n",
    "\n",
    "print(\"\\n\")\n",
    "hdu.pretty_print_topn_df(avg_losses_t5, title=\"All Time Top 5 Teams by Average Losses\")\n",
    "print(\"\\n\")\n",
    "hdu.pretty_print_topn_df(avg_losses_t5_lfy, title=\"Last 5 Years Top 5 Teams by Average Losses\")"
   ]
  },
  {
   "cell_type": "code",
   "execution_count": 18,
   "metadata": {
    "tags": []
   },
   "outputs": [
    {
     "name": "stdout",
     "output_type": "stream",
     "text": [
      "\n",
      "\n"
     ]
    },
    {
     "data": {
      "text/html": [
       "<pre style=\"white-space:pre;overflow-x:auto;line-height:normal;font-family:Menlo,'DejaVu Sans Mono',consolas,'Courier New',monospace\"><span style=\"font-style: italic\">     All Time Top 5 Teams by Total OT Losses     </span>\n",
       "┏━━━━━━━┳━━━━━━━━━━━━━━━━━━━━━┳━━━━━━━━━━━━━━━━━┓\n",
       "┃<span style=\"font-weight: bold\"> Index </span>┃<span style=\"font-weight: bold\"> Team Name           </span>┃<span style=\"font-weight: bold\"> Total OT Losses </span>┃\n",
       "┡━━━━━━━╇━━━━━━━━━━━━━━━━━━━━━╇━━━━━━━━━━━━━━━━━┩\n",
       "│ 0     │<span style=\"color: #008080; text-decoration-color: #008080\"> Florida Panthers    </span>│<span style=\"color: #008000; text-decoration-color: #008000\"> 124             </span>│\n",
       "│ 1     │<span style=\"color: #008080; text-decoration-color: #008080\"> Boston Bruins       </span>│<span style=\"color: #008000; text-decoration-color: #008000\"> 106             </span>│\n",
       "│ 2     │<span style=\"color: #008080; text-decoration-color: #008080\"> St. Louis Blues     </span>│<span style=\"color: #008000; text-decoration-color: #008000\"> 101             </span>│\n",
       "│ 3     │<span style=\"color: #008080; text-decoration-color: #008080\"> Montreal Canadiens  </span>│<span style=\"color: #008000; text-decoration-color: #008000\"> 96              </span>│\n",
       "│ 4     │<span style=\"color: #008080; text-decoration-color: #008080\"> Tampa Bay Lightning </span>│<span style=\"color: #008000; text-decoration-color: #008000\"> 96              </span>│\n",
       "└───────┴─────────────────────┴─────────────────┘\n",
       "</pre>\n"
      ],
      "text/plain": [
       "\u001b[3m     All Time Top 5 Teams by Total OT Losses     \u001b[0m\n",
       "┏━━━━━━━┳━━━━━━━━━━━━━━━━━━━━━┳━━━━━━━━━━━━━━━━━┓\n",
       "┃\u001b[1m \u001b[0m\u001b[1mIndex\u001b[0m\u001b[1m \u001b[0m┃\u001b[1m \u001b[0m\u001b[1mTeam Name          \u001b[0m\u001b[1m \u001b[0m┃\u001b[1m \u001b[0m\u001b[1mTotal OT Losses\u001b[0m\u001b[1m \u001b[0m┃\n",
       "┡━━━━━━━╇━━━━━━━━━━━━━━━━━━━━━╇━━━━━━━━━━━━━━━━━┩\n",
       "│ 0     │\u001b[36m \u001b[0m\u001b[36mFlorida Panthers   \u001b[0m\u001b[36m \u001b[0m│\u001b[32m \u001b[0m\u001b[32m124            \u001b[0m\u001b[32m \u001b[0m│\n",
       "│ 1     │\u001b[36m \u001b[0m\u001b[36mBoston Bruins      \u001b[0m\u001b[36m \u001b[0m│\u001b[32m \u001b[0m\u001b[32m106            \u001b[0m\u001b[32m \u001b[0m│\n",
       "│ 2     │\u001b[36m \u001b[0m\u001b[36mSt. Louis Blues    \u001b[0m\u001b[36m \u001b[0m│\u001b[32m \u001b[0m\u001b[32m101            \u001b[0m\u001b[32m \u001b[0m│\n",
       "│ 3     │\u001b[36m \u001b[0m\u001b[36mMontreal Canadiens \u001b[0m\u001b[36m \u001b[0m│\u001b[32m \u001b[0m\u001b[32m96             \u001b[0m\u001b[32m \u001b[0m│\n",
       "│ 4     │\u001b[36m \u001b[0m\u001b[36mTampa Bay Lightning\u001b[0m\u001b[36m \u001b[0m│\u001b[32m \u001b[0m\u001b[32m96             \u001b[0m\u001b[32m \u001b[0m│\n",
       "└───────┴─────────────────────┴─────────────────┘\n"
      ]
     },
     "metadata": {},
     "output_type": "display_data"
    },
    {
     "name": "stdout",
     "output_type": "stream",
     "text": [
      "\n",
      "\n"
     ]
    },
    {
     "data": {
      "text/html": [
       "<pre style=\"white-space:pre;overflow-x:auto;line-height:normal;font-family:Menlo,'DejaVu Sans Mono',consolas,'Courier New',monospace\"><span style=\"font-style: italic\">       Last 5 Years Top 5 Teams by Total OT Losses       </span>\n",
       "┏━━━━━━━┳━━━━━━━━━━━━━━━━━━━━━━━┳━━━━━━━━━━━━━━━━━━━━━━━┓\n",
       "┃<span style=\"font-weight: bold\"> Index </span>┃<span style=\"font-weight: bold\"> Team Name             </span>┃<span style=\"font-weight: bold\"> Total OT Losses (LFY) </span>┃\n",
       "┡━━━━━━━╇━━━━━━━━━━━━━━━━━━━━━━━╇━━━━━━━━━━━━━━━━━━━━━━━┩\n",
       "│ 0     │<span style=\"color: #008080; text-decoration-color: #008080\"> Florida Panthers      </span>│<span style=\"color: #008000; text-decoration-color: #008000\"> 63                    </span>│\n",
       "│ 1     │<span style=\"color: #008080; text-decoration-color: #008080\"> Toronto Maple Leafs   </span>│<span style=\"color: #008000; text-decoration-color: #008000\"> 59                    </span>│\n",
       "│ 2     │<span style=\"color: #008080; text-decoration-color: #008080\"> Tampa Bay Lightning   </span>│<span style=\"color: #008000; text-decoration-color: #008000\"> 58                    </span>│\n",
       "│ 3     │<span style=\"color: #008080; text-decoration-color: #008080\"> Columbus Blue Jackets </span>│<span style=\"color: #008000; text-decoration-color: #008000\"> 57                    </span>│\n",
       "│ 4     │<span style=\"color: #008080; text-decoration-color: #008080\"> Montreal Canadiens    </span>│<span style=\"color: #008000; text-decoration-color: #008000\"> 55                    </span>│\n",
       "└───────┴───────────────────────┴───────────────────────┘\n",
       "</pre>\n"
      ],
      "text/plain": [
       "\u001b[3m       Last 5 Years Top 5 Teams by Total OT Losses       \u001b[0m\n",
       "┏━━━━━━━┳━━━━━━━━━━━━━━━━━━━━━━━┳━━━━━━━━━━━━━━━━━━━━━━━┓\n",
       "┃\u001b[1m \u001b[0m\u001b[1mIndex\u001b[0m\u001b[1m \u001b[0m┃\u001b[1m \u001b[0m\u001b[1mTeam Name            \u001b[0m\u001b[1m \u001b[0m┃\u001b[1m \u001b[0m\u001b[1mTotal OT Losses (LFY)\u001b[0m\u001b[1m \u001b[0m┃\n",
       "┡━━━━━━━╇━━━━━━━━━━━━━━━━━━━━━━━╇━━━━━━━━━━━━━━━━━━━━━━━┩\n",
       "│ 0     │\u001b[36m \u001b[0m\u001b[36mFlorida Panthers     \u001b[0m\u001b[36m \u001b[0m│\u001b[32m \u001b[0m\u001b[32m63                   \u001b[0m\u001b[32m \u001b[0m│\n",
       "│ 1     │\u001b[36m \u001b[0m\u001b[36mToronto Maple Leafs  \u001b[0m\u001b[36m \u001b[0m│\u001b[32m \u001b[0m\u001b[32m59                   \u001b[0m\u001b[32m \u001b[0m│\n",
       "│ 2     │\u001b[36m \u001b[0m\u001b[36mTampa Bay Lightning  \u001b[0m\u001b[36m \u001b[0m│\u001b[32m \u001b[0m\u001b[32m58                   \u001b[0m\u001b[32m \u001b[0m│\n",
       "│ 3     │\u001b[36m \u001b[0m\u001b[36mColumbus Blue Jackets\u001b[0m\u001b[36m \u001b[0m│\u001b[32m \u001b[0m\u001b[32m57                   \u001b[0m\u001b[32m \u001b[0m│\n",
       "│ 4     │\u001b[36m \u001b[0m\u001b[36mMontreal Canadiens   \u001b[0m\u001b[36m \u001b[0m│\u001b[32m \u001b[0m\u001b[32m55                   \u001b[0m\u001b[32m \u001b[0m│\n",
       "└───────┴───────────────────────┴───────────────────────┘\n"
      ]
     },
     "metadata": {},
     "output_type": "display_data"
    }
   ],
   "source": [
    "# Get all time top-5 teams by total losses\n",
    "ot_losses_t5 =  hdu.top_n_teams(hockey_df, \"ot_losses\", \"sum\", 5).rename(columns={\"team_name\": \"Team Name\", \"ot_losses\": \"Total OT Losses\"})\n",
    "\n",
    "# Get last 5 years top-5 teams by total losses\n",
    "ot_losses_t5_lfy = hdu.top_n_teams(hockey_df_lfy, \"ot_losses\", \"sum\", 5).rename(columns={\"team_name\": \"Team Name\", \"ot_losses\": \"Total OT Losses (LFY)\"})\n",
    "\n",
    "print(\"\\n\")\n",
    "hdu.pretty_print_topn_df(ot_losses_t5, title=\"All Time Top 5 Teams by Total OT Losses\")\n",
    "print(\"\\n\")\n",
    "hdu.pretty_print_topn_df(ot_losses_t5_lfy, title=\"Last 5 Years Top 5 Teams by Total OT Losses\")"
   ]
  },
  {
   "cell_type": "code",
   "execution_count": 19,
   "metadata": {
    "tags": []
   },
   "outputs": [
    {
     "name": "stdout",
     "output_type": "stream",
     "text": [
      "\n",
      "\n"
     ]
    },
    {
     "data": {
      "text/html": [
       "<pre style=\"white-space:pre;overflow-x:auto;line-height:normal;font-family:Menlo,'DejaVu Sans Mono',consolas,'Courier New',monospace\"><span style=\"font-style: italic\">      All Time Top 5 Teams by Average OT Losses      </span>\n",
       "┏━━━━━━━┳━━━━━━━━━━━━━━━━━━━━━━━┳━━━━━━━━━━━━━━━━━━━┓\n",
       "┃<span style=\"font-weight: bold\"> Index </span>┃<span style=\"font-weight: bold\"> Team Name             </span>┃<span style=\"font-weight: bold\"> Average OT Losses </span>┃\n",
       "┡━━━━━━━╇━━━━━━━━━━━━━━━━━━━━━━━╇━━━━━━━━━━━━━━━━━━━┩\n",
       "│ 0     │<span style=\"color: #008080; text-decoration-color: #008080\"> Anaheim Ducks         </span>│<span style=\"color: #008000; text-decoration-color: #008000\"> 9.5               </span>│\n",
       "│ 1     │<span style=\"color: #008080; text-decoration-color: #008080\"> Columbus Blue Jackets </span>│<span style=\"color: #008000; text-decoration-color: #008000\"> 7.82              </span>│\n",
       "│ 2     │<span style=\"color: #008080; text-decoration-color: #008080\"> Minnesota Wild        </span>│<span style=\"color: #008000; text-decoration-color: #008000\"> 7.27              </span>│\n",
       "│ 3     │<span style=\"color: #008080; text-decoration-color: #008080\"> Atlanta Thrashers     </span>│<span style=\"color: #008000; text-decoration-color: #008000\"> 7.09              </span>│\n",
       "│ 4     │<span style=\"color: #008080; text-decoration-color: #008080\"> Florida Panthers      </span>│<span style=\"color: #008000; text-decoration-color: #008000\"> 6.89              </span>│\n",
       "└───────┴───────────────────────┴───────────────────┘\n",
       "</pre>\n"
      ],
      "text/plain": [
       "\u001b[3m      All Time Top 5 Teams by Average OT Losses      \u001b[0m\n",
       "┏━━━━━━━┳━━━━━━━━━━━━━━━━━━━━━━━┳━━━━━━━━━━━━━━━━━━━┓\n",
       "┃\u001b[1m \u001b[0m\u001b[1mIndex\u001b[0m\u001b[1m \u001b[0m┃\u001b[1m \u001b[0m\u001b[1mTeam Name            \u001b[0m\u001b[1m \u001b[0m┃\u001b[1m \u001b[0m\u001b[1mAverage OT Losses\u001b[0m\u001b[1m \u001b[0m┃\n",
       "┡━━━━━━━╇━━━━━━━━━━━━━━━━━━━━━━━╇━━━━━━━━━━━━━━━━━━━┩\n",
       "│ 0     │\u001b[36m \u001b[0m\u001b[36mAnaheim Ducks        \u001b[0m\u001b[36m \u001b[0m│\u001b[32m \u001b[0m\u001b[32m9.5              \u001b[0m\u001b[32m \u001b[0m│\n",
       "│ 1     │\u001b[36m \u001b[0m\u001b[36mColumbus Blue Jackets\u001b[0m\u001b[36m \u001b[0m│\u001b[32m \u001b[0m\u001b[32m7.82             \u001b[0m\u001b[32m \u001b[0m│\n",
       "│ 2     │\u001b[36m \u001b[0m\u001b[36mMinnesota Wild       \u001b[0m\u001b[36m \u001b[0m│\u001b[32m \u001b[0m\u001b[32m7.27             \u001b[0m\u001b[32m \u001b[0m│\n",
       "│ 3     │\u001b[36m \u001b[0m\u001b[36mAtlanta Thrashers    \u001b[0m\u001b[36m \u001b[0m│\u001b[32m \u001b[0m\u001b[32m7.09             \u001b[0m\u001b[32m \u001b[0m│\n",
       "│ 4     │\u001b[36m \u001b[0m\u001b[36mFlorida Panthers     \u001b[0m\u001b[36m \u001b[0m│\u001b[32m \u001b[0m\u001b[32m6.89             \u001b[0m\u001b[32m \u001b[0m│\n",
       "└───────┴───────────────────────┴───────────────────┘\n"
      ]
     },
     "metadata": {},
     "output_type": "display_data"
    },
    {
     "name": "stdout",
     "output_type": "stream",
     "text": [
      "\n",
      "\n"
     ]
    },
    {
     "data": {
      "text/html": [
       "<pre style=\"white-space:pre;overflow-x:auto;line-height:normal;font-family:Menlo,'DejaVu Sans Mono',consolas,'Courier New',monospace\"><span style=\"font-style: italic\">       Last 5 Years Top 5 Teams by Average OT Losses       </span>\n",
       "┏━━━━━━━┳━━━━━━━━━━━━━━━━━━━━━━━┳━━━━━━━━━━━━━━━━━━━━━━━━━┓\n",
       "┃<span style=\"font-weight: bold\"> Index </span>┃<span style=\"font-weight: bold\"> Team Name             </span>┃<span style=\"font-weight: bold\"> Average OT Losses (LFY) </span>┃\n",
       "┡━━━━━━━╇━━━━━━━━━━━━━━━━━━━━━━━╇━━━━━━━━━━━━━━━━━━━━━━━━━┩\n",
       "│ 0     │<span style=\"color: #008080; text-decoration-color: #008080\"> Florida Panthers      </span>│<span style=\"color: #008000; text-decoration-color: #008000\"> 12.6                    </span>│\n",
       "│ 1     │<span style=\"color: #008080; text-decoration-color: #008080\"> Toronto Maple Leafs   </span>│<span style=\"color: #008000; text-decoration-color: #008000\"> 11.8                    </span>│\n",
       "│ 2     │<span style=\"color: #008080; text-decoration-color: #008080\"> Tampa Bay Lightning   </span>│<span style=\"color: #008000; text-decoration-color: #008000\"> 11.6                    </span>│\n",
       "│ 3     │<span style=\"color: #008080; text-decoration-color: #008080\"> Columbus Blue Jackets </span>│<span style=\"color: #008000; text-decoration-color: #008000\"> 11.4                    </span>│\n",
       "│ 4     │<span style=\"color: #008080; text-decoration-color: #008080\"> Montreal Canadiens    </span>│<span style=\"color: #008000; text-decoration-color: #008000\"> 11.0                    </span>│\n",
       "└───────┴───────────────────────┴─────────────────────────┘\n",
       "</pre>\n"
      ],
      "text/plain": [
       "\u001b[3m       Last 5 Years Top 5 Teams by Average OT Losses       \u001b[0m\n",
       "┏━━━━━━━┳━━━━━━━━━━━━━━━━━━━━━━━┳━━━━━━━━━━━━━━━━━━━━━━━━━┓\n",
       "┃\u001b[1m \u001b[0m\u001b[1mIndex\u001b[0m\u001b[1m \u001b[0m┃\u001b[1m \u001b[0m\u001b[1mTeam Name            \u001b[0m\u001b[1m \u001b[0m┃\u001b[1m \u001b[0m\u001b[1mAverage OT Losses (LFY)\u001b[0m\u001b[1m \u001b[0m┃\n",
       "┡━━━━━━━╇━━━━━━━━━━━━━━━━━━━━━━━╇━━━━━━━━━━━━━━━━━━━━━━━━━┩\n",
       "│ 0     │\u001b[36m \u001b[0m\u001b[36mFlorida Panthers     \u001b[0m\u001b[36m \u001b[0m│\u001b[32m \u001b[0m\u001b[32m12.6                   \u001b[0m\u001b[32m \u001b[0m│\n",
       "│ 1     │\u001b[36m \u001b[0m\u001b[36mToronto Maple Leafs  \u001b[0m\u001b[36m \u001b[0m│\u001b[32m \u001b[0m\u001b[32m11.8                   \u001b[0m\u001b[32m \u001b[0m│\n",
       "│ 2     │\u001b[36m \u001b[0m\u001b[36mTampa Bay Lightning  \u001b[0m\u001b[36m \u001b[0m│\u001b[32m \u001b[0m\u001b[32m11.6                   \u001b[0m\u001b[32m \u001b[0m│\n",
       "│ 3     │\u001b[36m \u001b[0m\u001b[36mColumbus Blue Jackets\u001b[0m\u001b[36m \u001b[0m│\u001b[32m \u001b[0m\u001b[32m11.4                   \u001b[0m\u001b[32m \u001b[0m│\n",
       "│ 4     │\u001b[36m \u001b[0m\u001b[36mMontreal Canadiens   \u001b[0m\u001b[36m \u001b[0m│\u001b[32m \u001b[0m\u001b[32m11.0                   \u001b[0m\u001b[32m \u001b[0m│\n",
       "└───────┴───────────────────────┴─────────────────────────┘\n"
      ]
     },
     "metadata": {},
     "output_type": "display_data"
    }
   ],
   "source": [
    "# Get all time top-5 teams by total losses\n",
    "avg_ot_losses_t5 =  hdu.top_n_teams(hockey_df, \"ot_losses\", \"mean\", 5).rename(columns={\"team_name\": \"Team Name\", \"ot_losses\": \"Average OT Losses\"}).round(2)\n",
    "\n",
    "# Get last 5 years top-5 teams by total losses\n",
    "avg_ot_losses_t5_lfy = hdu.top_n_teams(hockey_df_lfy, \"ot_losses\", \"mean\", 5).rename(columns={\"team_name\": \"Team Name\", \"ot_losses\": \"Average OT Losses (LFY)\"}).round(2)\n",
    "\n",
    "print(\"\\n\")\n",
    "hdu.pretty_print_topn_df(avg_ot_losses_t5, title=\"All Time Top 5 Teams by Average OT Losses\")\n",
    "print(\"\\n\")\n",
    "hdu.pretty_print_topn_df(avg_ot_losses_t5_lfy, title=\"Last 5 Years Top 5 Teams by Average OT Losses\")"
   ]
  },
  {
   "cell_type": "code",
   "execution_count": 20,
   "metadata": {
    "tags": []
   },
   "outputs": [
    {
     "name": "stdout",
     "output_type": "stream",
     "text": [
      "\n",
      "\n"
     ]
    },
    {
     "data": {
      "text/html": [
       "<pre style=\"white-space:pre;overflow-x:auto;line-height:normal;font-family:Menlo,'DejaVu Sans Mono',consolas,'Courier New',monospace\"><span style=\"font-style: italic\">      All Time Top 5 Teams by Average OT Losses to Losses Ratio      </span>\n",
       "┏━━━━━━━┳━━━━━━━━━━━━━━━━━━━━━━━┳━━━━━━━━━━━━━━━━━━━━━━━━━━━━━━━━━━━┓\n",
       "┃<span style=\"font-weight: bold\"> Index </span>┃<span style=\"font-weight: bold\"> Team Name             </span>┃<span style=\"font-weight: bold\"> Average OT Losses to Losses Ratio </span>┃\n",
       "┡━━━━━━━╇━━━━━━━━━━━━━━━━━━━━━━━╇━━━━━━━━━━━━━━━━━━━━━━━━━━━━━━━━━━━┩\n",
       "│ 0     │<span style=\"color: #008080; text-decoration-color: #008080\"> Anaheim Ducks         </span>│<span style=\"color: #008000; text-decoration-color: #008000\"> 0.34                              </span>│\n",
       "│ 1     │<span style=\"color: #008080; text-decoration-color: #008080\"> Minnesota Wild        </span>│<span style=\"color: #008000; text-decoration-color: #008000\"> 0.22                              </span>│\n",
       "│ 2     │<span style=\"color: #008080; text-decoration-color: #008080\"> Florida Panthers      </span>│<span style=\"color: #008000; text-decoration-color: #008000\"> 0.21                              </span>│\n",
       "│ 3     │<span style=\"color: #008080; text-decoration-color: #008080\"> Columbus Blue Jackets </span>│<span style=\"color: #008000; text-decoration-color: #008000\"> 0.21                              </span>│\n",
       "│ 4     │<span style=\"color: #008080; text-decoration-color: #008080\"> Nashville Predators   </span>│<span style=\"color: #008000; text-decoration-color: #008000\"> 0.21                              </span>│\n",
       "└───────┴───────────────────────┴───────────────────────────────────┘\n",
       "</pre>\n"
      ],
      "text/plain": [
       "\u001b[3m      All Time Top 5 Teams by Average OT Losses to Losses Ratio      \u001b[0m\n",
       "┏━━━━━━━┳━━━━━━━━━━━━━━━━━━━━━━━┳━━━━━━━━━━━━━━━━━━━━━━━━━━━━━━━━━━━┓\n",
       "┃\u001b[1m \u001b[0m\u001b[1mIndex\u001b[0m\u001b[1m \u001b[0m┃\u001b[1m \u001b[0m\u001b[1mTeam Name            \u001b[0m\u001b[1m \u001b[0m┃\u001b[1m \u001b[0m\u001b[1mAverage OT Losses to Losses Ratio\u001b[0m\u001b[1m \u001b[0m┃\n",
       "┡━━━━━━━╇━━━━━━━━━━━━━━━━━━━━━━━╇━━━━━━━━━━━━━━━━━━━━━━━━━━━━━━━━━━━┩\n",
       "│ 0     │\u001b[36m \u001b[0m\u001b[36mAnaheim Ducks        \u001b[0m\u001b[36m \u001b[0m│\u001b[32m \u001b[0m\u001b[32m0.34                             \u001b[0m\u001b[32m \u001b[0m│\n",
       "│ 1     │\u001b[36m \u001b[0m\u001b[36mMinnesota Wild       \u001b[0m\u001b[36m \u001b[0m│\u001b[32m \u001b[0m\u001b[32m0.22                             \u001b[0m\u001b[32m \u001b[0m│\n",
       "│ 2     │\u001b[36m \u001b[0m\u001b[36mFlorida Panthers     \u001b[0m\u001b[36m \u001b[0m│\u001b[32m \u001b[0m\u001b[32m0.21                             \u001b[0m\u001b[32m \u001b[0m│\n",
       "│ 3     │\u001b[36m \u001b[0m\u001b[36mColumbus Blue Jackets\u001b[0m\u001b[36m \u001b[0m│\u001b[32m \u001b[0m\u001b[32m0.21                             \u001b[0m\u001b[32m \u001b[0m│\n",
       "│ 4     │\u001b[36m \u001b[0m\u001b[36mNashville Predators  \u001b[0m\u001b[36m \u001b[0m│\u001b[32m \u001b[0m\u001b[32m0.21                             \u001b[0m\u001b[32m \u001b[0m│\n",
       "└───────┴───────────────────────┴───────────────────────────────────┘\n"
      ]
     },
     "metadata": {},
     "output_type": "display_data"
    },
    {
     "name": "stdout",
     "output_type": "stream",
     "text": [
      "\n",
      "\n"
     ]
    },
    {
     "data": {
      "text/html": [
       "<pre style=\"white-space:pre;overflow-x:auto;line-height:normal;font-family:Menlo,'DejaVu Sans Mono',consolas,'Courier New',monospace\"><span style=\"font-style: italic\">      Last 5 Years Top 5 Teams by Average OT Losses to Losses Ratio      </span>\n",
       "┏━━━━━━━┳━━━━━━━━━━━━━━━━━━━━━┳━━━━━━━━━━━━━━━━━━━━━━━━━━━━━━━━━━━━━━━━━┓\n",
       "┃<span style=\"font-weight: bold\"> Index </span>┃<span style=\"font-weight: bold\"> Team Name           </span>┃<span style=\"font-weight: bold\"> Average OT Losses to Losses Ratio (LFY) </span>┃\n",
       "┡━━━━━━━╇━━━━━━━━━━━━━━━━━━━━━╇━━━━━━━━━━━━━━━━━━━━━━━━━━━━━━━━━━━━━━━━━┩\n",
       "│ 0     │<span style=\"color: #008080; text-decoration-color: #008080\"> San Jose Sharks     </span>│<span style=\"color: #008000; text-decoration-color: #008000\"> 0.46                                    </span>│\n",
       "│ 1     │<span style=\"color: #008080; text-decoration-color: #008080\"> Washington Capitals </span>│<span style=\"color: #008000; text-decoration-color: #008000\"> 0.44                                    </span>│\n",
       "│ 2     │<span style=\"color: #008080; text-decoration-color: #008080\"> Detroit Red Wings   </span>│<span style=\"color: #008000; text-decoration-color: #008000\"> 0.4                                     </span>│\n",
       "│ 3     │<span style=\"color: #008080; text-decoration-color: #008080\"> Florida Panthers    </span>│<span style=\"color: #008000; text-decoration-color: #008000\"> 0.39                                    </span>│\n",
       "│ 4     │<span style=\"color: #008080; text-decoration-color: #008080\"> Boston Bruins       </span>│<span style=\"color: #008000; text-decoration-color: #008000\"> 0.39                                    </span>│\n",
       "└───────┴─────────────────────┴─────────────────────────────────────────┘\n",
       "</pre>\n"
      ],
      "text/plain": [
       "\u001b[3m      Last 5 Years Top 5 Teams by Average OT Losses to Losses Ratio      \u001b[0m\n",
       "┏━━━━━━━┳━━━━━━━━━━━━━━━━━━━━━┳━━━━━━━━━━━━━━━━━━━━━━━━━━━━━━━━━━━━━━━━━┓\n",
       "┃\u001b[1m \u001b[0m\u001b[1mIndex\u001b[0m\u001b[1m \u001b[0m┃\u001b[1m \u001b[0m\u001b[1mTeam Name          \u001b[0m\u001b[1m \u001b[0m┃\u001b[1m \u001b[0m\u001b[1mAverage OT Losses to Losses Ratio (LFY)\u001b[0m\u001b[1m \u001b[0m┃\n",
       "┡━━━━━━━╇━━━━━━━━━━━━━━━━━━━━━╇━━━━━━━━━━━━━━━━━━━━━━━━━━━━━━━━━━━━━━━━━┩\n",
       "│ 0     │\u001b[36m \u001b[0m\u001b[36mSan Jose Sharks    \u001b[0m\u001b[36m \u001b[0m│\u001b[32m \u001b[0m\u001b[32m0.46                                   \u001b[0m\u001b[32m \u001b[0m│\n",
       "│ 1     │\u001b[36m \u001b[0m\u001b[36mWashington Capitals\u001b[0m\u001b[36m \u001b[0m│\u001b[32m \u001b[0m\u001b[32m0.44                                   \u001b[0m\u001b[32m \u001b[0m│\n",
       "│ 2     │\u001b[36m \u001b[0m\u001b[36mDetroit Red Wings  \u001b[0m\u001b[36m \u001b[0m│\u001b[32m \u001b[0m\u001b[32m0.4                                    \u001b[0m\u001b[32m \u001b[0m│\n",
       "│ 3     │\u001b[36m \u001b[0m\u001b[36mFlorida Panthers   \u001b[0m\u001b[36m \u001b[0m│\u001b[32m \u001b[0m\u001b[32m0.39                                   \u001b[0m\u001b[32m \u001b[0m│\n",
       "│ 4     │\u001b[36m \u001b[0m\u001b[36mBoston Bruins      \u001b[0m\u001b[36m \u001b[0m│\u001b[32m \u001b[0m\u001b[32m0.39                                   \u001b[0m\u001b[32m \u001b[0m│\n",
       "└───────┴─────────────────────┴─────────────────────────────────────────┘\n"
      ]
     },
     "metadata": {},
     "output_type": "display_data"
    }
   ],
   "source": [
    "# Get all time top-5 teams by total losses\n",
    "ot_loss_to_loss_t5 =  hdu.top_n_teams(hockey_df, \"ot_loss_to_loss_ratio\", \"mean\", 5).rename(columns={\"team_name\": \"Team Name\", \"ot_loss_to_loss_ratio\": \"Average OT Losses to Losses Ratio\"}).round(2)\n",
    "\n",
    "# Get last 5 years top-5 teams by total losses\n",
    "ot_loss_to_loss_t5_lfy = hdu.top_n_teams(hockey_df_lfy, \"ot_loss_to_loss_ratio\", \"mean\", 5).rename(columns={\"team_name\": \"Team Name\", \"ot_loss_to_loss_ratio\": \"Average OT Losses to Losses Ratio (LFY)\"}).round(2)\n",
    "\n",
    "print(\"\\n\")\n",
    "hdu.pretty_print_topn_df(ot_loss_to_loss_t5, title=\"All Time Top 5 Teams by Average OT Losses to Losses Ratio\")\n",
    "print(\"\\n\")\n",
    "hdu.pretty_print_topn_df(ot_loss_to_loss_t5_lfy, title=\"Last 5 Years Top 5 Teams by Average OT Losses to Losses Ratio\")"
   ]
  },
  {
   "cell_type": "code",
   "execution_count": 21,
   "metadata": {
    "tags": []
   },
   "outputs": [
    {
     "name": "stdout",
     "output_type": "stream",
     "text": [
      "\n",
      "\n"
     ]
    },
    {
     "data": {
      "text/html": [
       "<pre style=\"white-space:pre;overflow-x:auto;line-height:normal;font-family:Menlo,'DejaVu Sans Mono',consolas,'Courier New',monospace\"><span style=\"font-style: italic\"> All Time Top 5 Teams by Average Loss to Win Ratio </span>\n",
       "┏━━━━━━━┳━━━━━━━━━━━━━━━━━━━━━┳━━━━━━━━━━━━━━━━━━━┓\n",
       "┃<span style=\"font-weight: bold\"> Index </span>┃<span style=\"font-weight: bold\"> Team Name           </span>┃<span style=\"font-weight: bold\"> Loss to Win Ratio </span>┃\n",
       "┡━━━━━━━╇━━━━━━━━━━━━━━━━━━━━━╇━━━━━━━━━━━━━━━━━━━┩\n",
       "│ 0     │<span style=\"color: #008080; text-decoration-color: #008080\"> Quebec Nordiques    </span>│<span style=\"color: #008000; text-decoration-color: #008000\"> 1.55              </span>│\n",
       "│ 1     │<span style=\"color: #008080; text-decoration-color: #008080\"> Ottawa Senators     </span>│<span style=\"color: #008000; text-decoration-color: #008000\"> 1.54              </span>│\n",
       "│ 2     │<span style=\"color: #008080; text-decoration-color: #008080\"> Atlanta Thrashers   </span>│<span style=\"color: #008000; text-decoration-color: #008000\"> 1.52              </span>│\n",
       "│ 3     │<span style=\"color: #008080; text-decoration-color: #008080\"> Tampa Bay Lightning </span>│<span style=\"color: #008000; text-decoration-color: #008000\"> 1.46              </span>│\n",
       "│ 4     │<span style=\"color: #008080; text-decoration-color: #008080\"> Hartford Whalers    </span>│<span style=\"color: #008000; text-decoration-color: #008000\"> 1.46              </span>│\n",
       "└───────┴─────────────────────┴───────────────────┘\n",
       "</pre>\n"
      ],
      "text/plain": [
       "\u001b[3m All Time Top 5 Teams by Average Loss to Win Ratio \u001b[0m\n",
       "┏━━━━━━━┳━━━━━━━━━━━━━━━━━━━━━┳━━━━━━━━━━━━━━━━━━━┓\n",
       "┃\u001b[1m \u001b[0m\u001b[1mIndex\u001b[0m\u001b[1m \u001b[0m┃\u001b[1m \u001b[0m\u001b[1mTeam Name          \u001b[0m\u001b[1m \u001b[0m┃\u001b[1m \u001b[0m\u001b[1mLoss to Win Ratio\u001b[0m\u001b[1m \u001b[0m┃\n",
       "┡━━━━━━━╇━━━━━━━━━━━━━━━━━━━━━╇━━━━━━━━━━━━━━━━━━━┩\n",
       "│ 0     │\u001b[36m \u001b[0m\u001b[36mQuebec Nordiques   \u001b[0m\u001b[36m \u001b[0m│\u001b[32m \u001b[0m\u001b[32m1.55             \u001b[0m\u001b[32m \u001b[0m│\n",
       "│ 1     │\u001b[36m \u001b[0m\u001b[36mOttawa Senators    \u001b[0m\u001b[36m \u001b[0m│\u001b[32m \u001b[0m\u001b[32m1.54             \u001b[0m\u001b[32m \u001b[0m│\n",
       "│ 2     │\u001b[36m \u001b[0m\u001b[36mAtlanta Thrashers  \u001b[0m\u001b[36m \u001b[0m│\u001b[32m \u001b[0m\u001b[32m1.52             \u001b[0m\u001b[32m \u001b[0m│\n",
       "│ 3     │\u001b[36m \u001b[0m\u001b[36mTampa Bay Lightning\u001b[0m\u001b[36m \u001b[0m│\u001b[32m \u001b[0m\u001b[32m1.46             \u001b[0m\u001b[32m \u001b[0m│\n",
       "│ 4     │\u001b[36m \u001b[0m\u001b[36mHartford Whalers   \u001b[0m\u001b[36m \u001b[0m│\u001b[32m \u001b[0m\u001b[32m1.46             \u001b[0m\u001b[32m \u001b[0m│\n",
       "└───────┴─────────────────────┴───────────────────┘\n"
      ]
     },
     "metadata": {},
     "output_type": "display_data"
    },
    {
     "name": "stdout",
     "output_type": "stream",
     "text": [
      "\n",
      "\n"
     ]
    },
    {
     "data": {
      "text/html": [
       "<pre style=\"white-space:pre;overflow-x:auto;line-height:normal;font-family:Menlo,'DejaVu Sans Mono',consolas,'Courier New',monospace\"><span style=\"font-style: italic\">   Last 5 Years Top 5 Teams by Average Loss to Win Ratio   </span>\n",
       "┏━━━━━━━┳━━━━━━━━━━━━━━━━━━━━━━━┳━━━━━━━━━━━━━━━━━━━━━━━━━┓\n",
       "┃<span style=\"font-weight: bold\"> Index </span>┃<span style=\"font-weight: bold\"> Team Name             </span>┃<span style=\"font-weight: bold\"> Loss to Win Ratio (LFY) </span>┃\n",
       "┡━━━━━━━╇━━━━━━━━━━━━━━━━━━━━━━━╇━━━━━━━━━━━━━━━━━━━━━━━━━┩\n",
       "│ 0     │<span style=\"color: #008080; text-decoration-color: #008080\"> Edmonton Oilers       </span>│<span style=\"color: #008000; text-decoration-color: #008000\"> 1.31                    </span>│\n",
       "│ 1     │<span style=\"color: #008080; text-decoration-color: #008080\"> New York Islanders    </span>│<span style=\"color: #008000; text-decoration-color: #008000\"> 1.27                    </span>│\n",
       "│ 2     │<span style=\"color: #008080; text-decoration-color: #008080\"> Tampa Bay Lightning   </span>│<span style=\"color: #008000; text-decoration-color: #008000\"> 1.11                    </span>│\n",
       "│ 3     │<span style=\"color: #008080; text-decoration-color: #008080\"> Columbus Blue Jackets </span>│<span style=\"color: #008000; text-decoration-color: #008000\"> 1.1                     </span>│\n",
       "│ 4     │<span style=\"color: #008080; text-decoration-color: #008080\"> Atlanta Thrashers     </span>│<span style=\"color: #008000; text-decoration-color: #008000\"> 1.09                    </span>│\n",
       "└───────┴───────────────────────┴─────────────────────────┘\n",
       "</pre>\n"
      ],
      "text/plain": [
       "\u001b[3m   Last 5 Years Top 5 Teams by Average Loss to Win Ratio   \u001b[0m\n",
       "┏━━━━━━━┳━━━━━━━━━━━━━━━━━━━━━━━┳━━━━━━━━━━━━━━━━━━━━━━━━━┓\n",
       "┃\u001b[1m \u001b[0m\u001b[1mIndex\u001b[0m\u001b[1m \u001b[0m┃\u001b[1m \u001b[0m\u001b[1mTeam Name            \u001b[0m\u001b[1m \u001b[0m┃\u001b[1m \u001b[0m\u001b[1mLoss to Win Ratio (LFY)\u001b[0m\u001b[1m \u001b[0m┃\n",
       "┡━━━━━━━╇━━━━━━━━━━━━━━━━━━━━━━━╇━━━━━━━━━━━━━━━━━━━━━━━━━┩\n",
       "│ 0     │\u001b[36m \u001b[0m\u001b[36mEdmonton Oilers      \u001b[0m\u001b[36m \u001b[0m│\u001b[32m \u001b[0m\u001b[32m1.31                   \u001b[0m\u001b[32m \u001b[0m│\n",
       "│ 1     │\u001b[36m \u001b[0m\u001b[36mNew York Islanders   \u001b[0m\u001b[36m \u001b[0m│\u001b[32m \u001b[0m\u001b[32m1.27                   \u001b[0m\u001b[32m \u001b[0m│\n",
       "│ 2     │\u001b[36m \u001b[0m\u001b[36mTampa Bay Lightning  \u001b[0m\u001b[36m \u001b[0m│\u001b[32m \u001b[0m\u001b[32m1.11                   \u001b[0m\u001b[32m \u001b[0m│\n",
       "│ 3     │\u001b[36m \u001b[0m\u001b[36mColumbus Blue Jackets\u001b[0m\u001b[36m \u001b[0m│\u001b[32m \u001b[0m\u001b[32m1.1                    \u001b[0m\u001b[32m \u001b[0m│\n",
       "│ 4     │\u001b[36m \u001b[0m\u001b[36mAtlanta Thrashers    \u001b[0m\u001b[36m \u001b[0m│\u001b[32m \u001b[0m\u001b[32m1.09                   \u001b[0m\u001b[32m \u001b[0m│\n",
       "└───────┴───────────────────────┴─────────────────────────┘\n"
      ]
     },
     "metadata": {},
     "output_type": "display_data"
    }
   ],
   "source": [
    "# Get all time top-5 teams by total losses\n",
    "loss_to_win_t5 =  hdu.top_n_teams(hockey_df, \"loss_to_win_ratio\", \"mean\", 5).rename(columns={\"team_name\": \"Team Name\", \"loss_to_win_ratio\": \"Loss to Win Ratio\"}).round(2)\n",
    "\n",
    "# Get last 5 years top-5 teams by total losses\n",
    "loss_to_win_t5_lfy = hdu.top_n_teams(hockey_df_lfy, \"loss_to_win_ratio\", \"mean\", 5).rename(columns={\"team_name\": \"Team Name\", \"loss_to_win_ratio\": \"Loss to Win Ratio (LFY)\"}).round(2)\n",
    "\n",
    "print(\"\\n\")\n",
    "hdu.pretty_print_topn_df(loss_to_win_t5, title=\"All Time Top 5 Teams by Average Loss to Win Ratio\")\n",
    "print(\"\\n\")\n",
    "hdu.pretty_print_topn_df(loss_to_win_t5_lfy, title=\"Last 5 Years Top 5 Teams by Average Loss to Win Ratio\")"
   ]
  },
  {
   "cell_type": "code",
   "execution_count": 22,
   "metadata": {},
   "outputs": [
    {
     "name": "stdout",
     "output_type": "stream",
     "text": [
      "\n",
      "\n"
     ]
    },
    {
     "data": {
      "text/html": [
       "<pre style=\"white-space:pre;overflow-x:auto;line-height:normal;font-family:Menlo,'DejaVu Sans Mono',consolas,'Courier New',monospace\"><span style=\"font-style: italic\">       All Time Bottom 5 Teams by Wins        </span>\n",
       "┏━━━━━━━┳━━━━━━━━━━━━━━━━━━━━━━━┳━━━━━━━━━━━━┓\n",
       "┃<span style=\"font-weight: bold\"> Index </span>┃<span style=\"font-weight: bold\"> Team Name             </span>┃<span style=\"font-weight: bold\"> Total Wins </span>┃\n",
       "┡━━━━━━━╇━━━━━━━━━━━━━━━━━━━━━━━╇━━━━━━━━━━━━┩\n",
       "│ 0     │<span style=\"color: #008080; text-decoration-color: #008080\"> Minnesota North Stars </span>│<span style=\"color: #008000; text-decoration-color: #008000\"> 95         </span>│\n",
       "│ 1     │<span style=\"color: #008080; text-decoration-color: #008080\"> Quebec Nordiques      </span>│<span style=\"color: #008000; text-decoration-color: #008000\"> 147        </span>│\n",
       "│ 2     │<span style=\"color: #008080; text-decoration-color: #008080\"> Hartford Whalers      </span>│<span style=\"color: #008000; text-decoration-color: #008000\"> 195        </span>│\n",
       "│ 3     │<span style=\"color: #008080; text-decoration-color: #008080\"> Winnipeg Jets         </span>│<span style=\"color: #008000; text-decoration-color: #008000\"> 212        </span>│\n",
       "│ 4     │<span style=\"color: #008080; text-decoration-color: #008080\"> Anaheim Ducks         </span>│<span style=\"color: #008000; text-decoration-color: #008000\"> 257        </span>│\n",
       "└───────┴───────────────────────┴────────────┘\n",
       "</pre>\n"
      ],
      "text/plain": [
       "\u001b[3m       All Time Bottom 5 Teams by Wins        \u001b[0m\n",
       "┏━━━━━━━┳━━━━━━━━━━━━━━━━━━━━━━━┳━━━━━━━━━━━━┓\n",
       "┃\u001b[1m \u001b[0m\u001b[1mIndex\u001b[0m\u001b[1m \u001b[0m┃\u001b[1m \u001b[0m\u001b[1mTeam Name            \u001b[0m\u001b[1m \u001b[0m┃\u001b[1m \u001b[0m\u001b[1mTotal Wins\u001b[0m\u001b[1m \u001b[0m┃\n",
       "┡━━━━━━━╇━━━━━━━━━━━━━━━━━━━━━━━╇━━━━━━━━━━━━┩\n",
       "│ 0     │\u001b[36m \u001b[0m\u001b[36mMinnesota North Stars\u001b[0m\u001b[36m \u001b[0m│\u001b[32m \u001b[0m\u001b[32m95        \u001b[0m\u001b[32m \u001b[0m│\n",
       "│ 1     │\u001b[36m \u001b[0m\u001b[36mQuebec Nordiques     \u001b[0m\u001b[36m \u001b[0m│\u001b[32m \u001b[0m\u001b[32m147       \u001b[0m\u001b[32m \u001b[0m│\n",
       "│ 2     │\u001b[36m \u001b[0m\u001b[36mHartford Whalers     \u001b[0m\u001b[36m \u001b[0m│\u001b[32m \u001b[0m\u001b[32m195       \u001b[0m\u001b[32m \u001b[0m│\n",
       "│ 3     │\u001b[36m \u001b[0m\u001b[36mWinnipeg Jets        \u001b[0m\u001b[36m \u001b[0m│\u001b[32m \u001b[0m\u001b[32m212       \u001b[0m\u001b[32m \u001b[0m│\n",
       "│ 4     │\u001b[36m \u001b[0m\u001b[36mAnaheim Ducks        \u001b[0m\u001b[36m \u001b[0m│\u001b[32m \u001b[0m\u001b[32m257       \u001b[0m\u001b[32m \u001b[0m│\n",
       "└───────┴───────────────────────┴────────────┘\n"
      ]
     },
     "metadata": {},
     "output_type": "display_data"
    },
    {
     "name": "stdout",
     "output_type": "stream",
     "text": [
      "\n",
      "\n"
     ]
    },
    {
     "data": {
      "text/html": [
       "<pre style=\"white-space:pre;overflow-x:auto;line-height:normal;font-family:Menlo,'DejaVu Sans Mono',consolas,'Courier New',monospace\"><span style=\"font-style: italic\">         Last 5 Years Bottom 5 Teams by Wins          </span>\n",
       "┏━━━━━━━┳━━━━━━━━━━━━━━━━━━━━━━━━━┳━━━━━━━━━━━━━━━━━━┓\n",
       "┃<span style=\"font-weight: bold\"> Index </span>┃<span style=\"font-weight: bold\"> Team Name               </span>┃<span style=\"font-weight: bold\"> Total Wins (LFY) </span>┃\n",
       "┡━━━━━━━╇━━━━━━━━━━━━━━━━━━━━━━━━━╇━━━━━━━━━━━━━━━━━━┩\n",
       "│ 0     │<span style=\"color: #008080; text-decoration-color: #008080\"> Hartford Whalers        </span>│<span style=\"color: #008000; text-decoration-color: #008000\"> 0                </span>│\n",
       "│ 1     │<span style=\"color: #008080; text-decoration-color: #008080\"> Mighty Ducks of Anaheim </span>│<span style=\"color: #008000; text-decoration-color: #008000\"> 0                </span>│\n",
       "│ 2     │<span style=\"color: #008080; text-decoration-color: #008080\"> Minnesota North Stars   </span>│<span style=\"color: #008000; text-decoration-color: #008000\"> 0                </span>│\n",
       "│ 3     │<span style=\"color: #008080; text-decoration-color: #008080\"> Quebec Nordiques        </span>│<span style=\"color: #008000; text-decoration-color: #008000\"> 0                </span>│\n",
       "│ 4     │<span style=\"color: #008080; text-decoration-color: #008080\"> Winnipeg Jets           </span>│<span style=\"color: #008000; text-decoration-color: #008000\"> 37               </span>│\n",
       "└───────┴─────────────────────────┴──────────────────┘\n",
       "</pre>\n"
      ],
      "text/plain": [
       "\u001b[3m         Last 5 Years Bottom 5 Teams by Wins          \u001b[0m\n",
       "┏━━━━━━━┳━━━━━━━━━━━━━━━━━━━━━━━━━┳━━━━━━━━━━━━━━━━━━┓\n",
       "┃\u001b[1m \u001b[0m\u001b[1mIndex\u001b[0m\u001b[1m \u001b[0m┃\u001b[1m \u001b[0m\u001b[1mTeam Name              \u001b[0m\u001b[1m \u001b[0m┃\u001b[1m \u001b[0m\u001b[1mTotal Wins (LFY)\u001b[0m\u001b[1m \u001b[0m┃\n",
       "┡━━━━━━━╇━━━━━━━━━━━━━━━━━━━━━━━━━╇━━━━━━━━━━━━━━━━━━┩\n",
       "│ 0     │\u001b[36m \u001b[0m\u001b[36mHartford Whalers       \u001b[0m\u001b[36m \u001b[0m│\u001b[32m \u001b[0m\u001b[32m0               \u001b[0m\u001b[32m \u001b[0m│\n",
       "│ 1     │\u001b[36m \u001b[0m\u001b[36mMighty Ducks of Anaheim\u001b[0m\u001b[36m \u001b[0m│\u001b[32m \u001b[0m\u001b[32m0               \u001b[0m\u001b[32m \u001b[0m│\n",
       "│ 2     │\u001b[36m \u001b[0m\u001b[36mMinnesota North Stars  \u001b[0m\u001b[36m \u001b[0m│\u001b[32m \u001b[0m\u001b[32m0               \u001b[0m\u001b[32m \u001b[0m│\n",
       "│ 3     │\u001b[36m \u001b[0m\u001b[36mQuebec Nordiques       \u001b[0m\u001b[36m \u001b[0m│\u001b[32m \u001b[0m\u001b[32m0               \u001b[0m\u001b[32m \u001b[0m│\n",
       "│ 4     │\u001b[36m \u001b[0m\u001b[36mWinnipeg Jets          \u001b[0m\u001b[36m \u001b[0m│\u001b[32m \u001b[0m\u001b[32m37              \u001b[0m\u001b[32m \u001b[0m│\n",
       "└───────┴─────────────────────────┴──────────────────┘\n"
      ]
     },
     "metadata": {},
     "output_type": "display_data"
    }
   ],
   "source": [
    "# Get all time top-5 teams by total wins\n",
    "wins_b5 =  hdu.bottom_n_teams(hockey_df, \"wins\", \"sum\", 5).rename(columns={\"team_name\": \"Team Name\", \"wins\": \"Total Wins\"})\n",
    "\n",
    "# Get last 5 years top-5 teams by total wins\n",
    "wins_b5_lfy = hdu.bottom_n_teams(hockey_df_lfy, \"wins\", \"sum\", 5).rename(columns={\"team_name\": \"Team Name\", \"wins\": \"Total Wins (LFY)\"})\n",
    "\n",
    "print(\"\\n\")\n",
    "hdu.pretty_print_topn_df(wins_b5, title=\"All Time Bottom 5 Teams by Wins\")\n",
    "print(\"\\n\")\n",
    "hdu.pretty_print_topn_df(wins_b5_lfy, title=\"Last 5 Years Bottom 5 Teams by Wins\")"
   ]
  },
  {
   "cell_type": "markdown",
   "metadata": {},
   "source": [
    "#### Losses & OT Losses Analysis Plot"
   ]
  },
  {
   "cell_type": "code",
   "execution_count": 23,
   "metadata": {
    "tags": []
   },
   "outputs": [
    {
     "data": {
      "image/png": "[encoded data removed]",
      "text/plain": [
       "<Figure size 1000x1000 with 6 Axes>"
      ]
     },
     "metadata": {},
     "output_type": "display_data"
    }
   ],
   "source": []
  }
 ],
 "metadata": {
  "kernelspec": {
   "display_name": "Python 3 (ipykernel)",
   "language": "python",
   "name": "python3"
  },
  "language_info": {
   "codemirror_mode": {
    "name": "ipython",
    "version": 3
   },
   "file_extension": ".py",
   "mimetype": "text/x-python",
   "name": "python",
   "nbconvert_exporter": "python",
   "pygments_lexer": "ipython3",
   "version": "3.10.11"
  }
 },
 "nbformat": 4,
 "nbformat_minor": 4
}
